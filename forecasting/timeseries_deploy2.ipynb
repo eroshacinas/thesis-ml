{
 "cells": [
  {
   "cell_type": "code",
   "execution_count": 4,
   "id": "920c5820-b0c9-4a6f-855d-6dcbc6364fc2",
   "metadata": {},
   "outputs": [],
   "source": [
    "import pickle\n",
    "import numpy as np\n",
    "import pandas as pd\n",
    "\n",
    "from sklearn.svm import SVR\n",
    "from sklearn.pipeline import make_pipeline\n",
    "from sklearn.preprocessing import MinMaxScaler\n",
    "\n",
    "import joblib\n"
   ]
  },
  {
   "cell_type": "code",
   "execution_count": 5,
   "id": "84ede660-c615-4bee-ae3c-96aa1fde27e6",
   "metadata": {},
   "outputs": [],
   "source": [
    "from forecast_helpers import _preprocess"
   ]
  },
  {
   "cell_type": "code",
   "execution_count": 10,
   "id": "98b0f2d5-305c-40b4-8164-84377d547271",
   "metadata": {},
   "outputs": [],
   "source": [
    "filename = 'model_ph.sav'\n",
    "model_ph = joblib.load(filename) # model to predict ph"
   ]
  },
  {
   "cell_type": "code",
   "execution_count": 15,
   "id": "f3bc1330-ae39-488c-9ff8-03cf5546d135",
   "metadata": {},
   "outputs": [
    {
     "name": "stdout",
     "output_type": "stream",
     "text": [
      "Already dropped\n",
      "temperature: 2.00 sensors\n",
      "humidity: 2.00 sensors\n",
      "light_intensity: 9.00 sensors\n",
      "soil_moisture: 9.00 sensors\n",
      "solution_pH: 1.00 sensors\n",
      "solution_EC: 1.00 sensors\n",
      "NaN values detected, interpolation applied\n"
     ]
    }
   ],
   "source": [
    "columns=['datetime', 'expt_num', 'sitename', 'type', 'index', 'value']\n",
    "df = pd.read_csv(\"Large_sensors.csv\", names=columns)\n",
    "\n",
    "sensor_ave_df = _preprocess(df)"
   ]
  },
  {
   "cell_type": "code",
   "execution_count": 16,
   "id": "ff684bab-d287-4ccf-b0ff-ae7df3763219",
   "metadata": {},
   "outputs": [
    {
     "data": {
      "text/html": [
       "<div>\n",
       "<style scoped>\n",
       "    .dataframe tbody tr th:only-of-type {\n",
       "        vertical-align: middle;\n",
       "    }\n",
       "\n",
       "    .dataframe tbody tr th {\n",
       "        vertical-align: top;\n",
       "    }\n",
       "\n",
       "    .dataframe thead th {\n",
       "        text-align: right;\n",
       "    }\n",
       "</style>\n",
       "<table border=\"1\" class=\"dataframe\">\n",
       "  <thead>\n",
       "    <tr style=\"text-align: right;\">\n",
       "      <th></th>\n",
       "      <th>temp_ave</th>\n",
       "      <th>humid_ave</th>\n",
       "      <th>li_ave</th>\n",
       "      <th>EC</th>\n",
       "      <th>ph</th>\n",
       "      <th>sm_ave</th>\n",
       "    </tr>\n",
       "  </thead>\n",
       "  <tbody>\n",
       "    <tr>\n",
       "      <th>0</th>\n",
       "      <td>28.90</td>\n",
       "      <td>58.90</td>\n",
       "      <td>401.822917</td>\n",
       "      <td>2.628156</td>\n",
       "      <td>3.238167</td>\n",
       "      <td>0.984269</td>\n",
       "    </tr>\n",
       "    <tr>\n",
       "      <th>1</th>\n",
       "      <td>26.85</td>\n",
       "      <td>58.70</td>\n",
       "      <td>403.020833</td>\n",
       "      <td>2.447942</td>\n",
       "      <td>3.237843</td>\n",
       "      <td>0.982880</td>\n",
       "    </tr>\n",
       "    <tr>\n",
       "      <th>2</th>\n",
       "      <td>26.65</td>\n",
       "      <td>60.85</td>\n",
       "      <td>409.531250</td>\n",
       "      <td>2.416456</td>\n",
       "      <td>3.237111</td>\n",
       "      <td>0.982002</td>\n",
       "    </tr>\n",
       "    <tr>\n",
       "      <th>3</th>\n",
       "      <td>24.70</td>\n",
       "      <td>72.00</td>\n",
       "      <td>0.052083</td>\n",
       "      <td>0.828667</td>\n",
       "      <td>3.230280</td>\n",
       "      <td>0.959288</td>\n",
       "    </tr>\n",
       "    <tr>\n",
       "      <th>4</th>\n",
       "      <td>24.80</td>\n",
       "      <td>71.70</td>\n",
       "      <td>432.083333</td>\n",
       "      <td>0.818954</td>\n",
       "      <td>3.237111</td>\n",
       "      <td>0.969119</td>\n",
       "    </tr>\n",
       "  </tbody>\n",
       "</table>\n",
       "</div>"
      ],
      "text/plain": [
       "   temp_ave  humid_ave      li_ave        EC        ph    sm_ave\n",
       "0     28.90      58.90  401.822917  2.628156  3.238167  0.984269\n",
       "1     26.85      58.70  403.020833  2.447942  3.237843  0.982880\n",
       "2     26.65      60.85  409.531250  2.416456  3.237111  0.982002\n",
       "3     24.70      72.00    0.052083  0.828667  3.230280  0.959288\n",
       "4     24.80      71.70  432.083333  0.818954  3.237111  0.969119"
      ]
     },
     "execution_count": 16,
     "metadata": {},
     "output_type": "execute_result"
    }
   ],
   "source": [
    "sensor_ave_df.head()"
   ]
  },
  {
   "cell_type": "code",
   "execution_count": 18,
   "id": "afe52c02-11cf-45be-8deb-f352748de8c1",
   "metadata": {},
   "outputs": [
    {
     "data": {
      "text/plain": [
       "array([3.59734133])"
      ]
     },
     "execution_count": 18,
     "metadata": {},
     "output_type": "execute_result"
    }
   ],
   "source": [
    "X = sensor_ave_df.iloc[:,:4].values\n",
    "loaded_model.predict(X[-1].reshape(-1,4)) # use the latest values to predict next ph value"
   ]
  },
  {
   "cell_type": "code",
   "execution_count": 20,
   "id": "f457c929-1a1d-4e05-b956-a2fea4d8fdc0",
   "metadata": {},
   "outputs": [
    {
     "data": {
      "text/plain": [
       "array([3.54367342, 3.60395426, 3.61192169, 3.61619759, 3.59734133])"
      ]
     },
     "execution_count": 20,
     "metadata": {},
     "output_type": "execute_result"
    }
   ],
   "source": [
    "N = -5 # use the last N values to predict next N ph values\n",
    "loaded_model.predict(X[N:].reshape(-1,4)) "
   ]
  },
  {
   "cell_type": "code",
   "execution_count": null,
   "id": "b2ed8b97-a4f1-4354-a463-e85d8f605cec",
   "metadata": {},
   "outputs": [],
   "source": []
  }
 ],
 "metadata": {
  "kernelspec": {
   "display_name": "Python 3 (ipykernel)",
   "language": "python",
   "name": "python3"
  },
  "language_info": {
   "codemirror_mode": {
    "name": "ipython",
    "version": 3
   },
   "file_extension": ".py",
   "mimetype": "text/x-python",
   "name": "python",
   "nbconvert_exporter": "python",
   "pygments_lexer": "ipython3",
   "version": "3.9.7"
  }
 },
 "nbformat": 4,
 "nbformat_minor": 5
}
