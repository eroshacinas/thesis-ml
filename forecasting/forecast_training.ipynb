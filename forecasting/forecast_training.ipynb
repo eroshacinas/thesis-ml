{
 "cells": [
  {
   "cell_type": "code",
   "execution_count": 1,
   "id": "ce1feac9-c5a6-445f-847a-a45216fcfd5d",
   "metadata": {},
   "outputs": [],
   "source": [
    "import pandas as pd\n",
    "import numpy as np\n",
    "import matplotlib.pyplot as plt\n",
    "import numpy as np\n",
    "\n",
    "from sklearn.svm import SVR\n",
    "from sklearn.pipeline import make_pipeline\n",
    "from sklearn.preprocessing import MinMaxScaler"
   ]
  },
  {
   "cell_type": "code",
   "execution_count": 2,
   "id": "22e83fcf-c0a5-4788-8c72-600891f43102",
   "metadata": {},
   "outputs": [
    {
     "data": {
      "text/html": [
       "<div>\n",
       "<style scoped>\n",
       "    .dataframe tbody tr th:only-of-type {\n",
       "        vertical-align: middle;\n",
       "    }\n",
       "\n",
       "    .dataframe tbody tr th {\n",
       "        vertical-align: top;\n",
       "    }\n",
       "\n",
       "    .dataframe thead th {\n",
       "        text-align: right;\n",
       "    }\n",
       "</style>\n",
       "<table border=\"1\" class=\"dataframe\">\n",
       "  <thead>\n",
       "    <tr style=\"text-align: right;\">\n",
       "      <th></th>\n",
       "      <th>type</th>\n",
       "      <th>index</th>\n",
       "      <th>value</th>\n",
       "    </tr>\n",
       "  </thead>\n",
       "  <tbody>\n",
       "    <tr>\n",
       "      <th>0</th>\n",
       "      <td>temperature</td>\n",
       "      <td>0</td>\n",
       "      <td>28.775000</td>\n",
       "    </tr>\n",
       "    <tr>\n",
       "      <th>1</th>\n",
       "      <td>temperature</td>\n",
       "      <td>1</td>\n",
       "      <td>27.875000</td>\n",
       "    </tr>\n",
       "    <tr>\n",
       "      <th>2</th>\n",
       "      <td>humidity</td>\n",
       "      <td>0</td>\n",
       "      <td>86.880000</td>\n",
       "    </tr>\n",
       "    <tr>\n",
       "      <th>3</th>\n",
       "      <td>humidity</td>\n",
       "      <td>1</td>\n",
       "      <td>84.160000</td>\n",
       "    </tr>\n",
       "    <tr>\n",
       "      <th>4</th>\n",
       "      <td>light_intensity</td>\n",
       "      <td>0</td>\n",
       "      <td>779.666667</td>\n",
       "    </tr>\n",
       "  </tbody>\n",
       "</table>\n",
       "</div>"
      ],
      "text/plain": [
       "              type  index       value\n",
       "0      temperature      0   28.775000\n",
       "1      temperature      1   27.875000\n",
       "2         humidity      0   86.880000\n",
       "3         humidity      1   84.160000\n",
       "4  light_intensity      0  779.666667"
      ]
     },
     "execution_count": 2,
     "metadata": {},
     "output_type": "execute_result"
    }
   ],
   "source": [
    "csv_path = '/Users/admin/Documents/School/BS-CSE/Thesis/extrapolation/blast_sensors_2023-07-21 00_00_00_2023-07-25 00_00_00.csv'\n",
    "df = pd.read_csv(csv_path)\n",
    "\n",
    "df = df.iloc[:,1:]\n",
    "\n",
    "\n",
    "df.drop(['datetime', 'location', 'expt_num'], axis=1, inplace=True)\n",
    "\n",
    "\n",
    "df.head()"
   ]
  },
  {
   "cell_type": "code",
   "execution_count": 3,
   "id": "1b73275d-8dfd-43f7-8aa2-e4bfbb2bca04",
   "metadata": {},
   "outputs": [
    {
     "data": {
      "text/plain": [
       "light_intensity    576\n",
       "soil_moisture      576\n",
       "temperature        128\n",
       "humidity           128\n",
       "solution_pH         64\n",
       "solution_EC         64\n",
       "Name: type, dtype: int64"
      ]
     },
     "execution_count": 3,
     "metadata": {},
     "output_type": "execute_result"
    }
   ],
   "source": [
    "df['type'].value_counts()"
   ]
  },
  {
   "cell_type": "code",
   "execution_count": 4,
   "id": "b54d71cc-30b8-48f8-a836-f7a437e90600",
   "metadata": {},
   "outputs": [
    {
     "data": {
      "text/plain": [
       "array(['temperature', 'humidity', 'light_intensity', 'soil_moisture',\n",
       "       'solution_pH', 'solution_EC'], dtype=object)"
      ]
     },
     "execution_count": 4,
     "metadata": {},
     "output_type": "execute_result"
    }
   ],
   "source": [
    "sensor_types = pd.unique(df['type'])\n",
    "sensor_types"
   ]
  },
  {
   "cell_type": "code",
   "execution_count": 5,
   "id": "048637a8-0935-42aa-aac0-1248888bb467",
   "metadata": {},
   "outputs": [
    {
     "name": "stdout",
     "output_type": "stream",
     "text": [
      "temperature: 2.00 sensors\n",
      "humidity: 2.00 sensors\n",
      "light_intensity: 9.00 sensors\n",
      "soil_moisture: 9.00 sensors\n",
      "solution_pH: 1.00 sensors\n",
      "solution_EC: 1.00 sensors\n"
     ]
    }
   ],
   "source": [
    "DATA_PER_SENSOR = sum(df['type'] == 'solution_pH')\n",
    "\n",
    "for type in sensor_types:\n",
    "    mask = df['type'] == type\n",
    "    print(f\"{type}: {df[mask].shape[0] / DATA_PER_SENSOR:.2f} sensors\")"
   ]
  },
  {
   "cell_type": "code",
   "execution_count": 6,
   "id": "18fdb1de-5fa5-4183-96df-6bf7f8dba3c9",
   "metadata": {},
   "outputs": [
    {
     "name": "stdout",
     "output_type": "stream",
     "text": [
      "temperature_0: 0 nan values\n",
      "temperature_1: 0 nan values\n",
      "humidity_0: 0 nan values\n",
      "humidity_1: 0 nan values\n",
      "light_intensity_0: 0 nan values\n",
      "light_intensity_1: 0 nan values\n",
      "light_intensity_2: 0 nan values\n",
      "light_intensity_3: 0 nan values\n",
      "light_intensity_4: 0 nan values\n",
      "light_intensity_5: 0 nan values\n",
      "light_intensity_6: 0 nan values\n",
      "light_intensity_7: 0 nan values\n",
      "light_intensity_8: 0 nan values\n",
      "soil_moisture_0: 0 nan values\n",
      "soil_moisture_1: 0 nan values\n",
      "soil_moisture_2: 0 nan values\n",
      "soil_moisture_3: 0 nan values\n",
      "soil_moisture_4: 0 nan values\n",
      "soil_moisture_5: 0 nan values\n",
      "soil_moisture_6: 0 nan values\n",
      "soil_moisture_7: 0 nan values\n",
      "soil_moisture_8: 0 nan values\n",
      "solution_pH_0: 0 nan values\n",
      "solution_EC_0: 0 nan values\n"
     ]
    }
   ],
   "source": [
    "sensor_dict = {}\n",
    "for typ in sensor_types:\n",
    "    _sensor = df.loc[df['type'] == typ] # select what type of sensor\n",
    "    \n",
    "    for ind in pd.unique(_sensor['index']): # select ith sensor\n",
    "        sensor_dict[f'{typ}_{ind}'] = _sensor.loc[_sensor['index'] == ind]['value'].values\n",
    "        print(f\"{typ}_{ind}: {_sensor.loc[_sensor['index'] == ind]['value'].isna().sum()} nan values\")"
   ]
  },
  {
   "cell_type": "code",
   "execution_count": 7,
   "id": "cbd5c3cc-3c20-42e3-9f35-02c97c7e2622",
   "metadata": {},
   "outputs": [
    {
     "data": {
      "text/html": [
       "<div>\n",
       "<style scoped>\n",
       "    .dataframe tbody tr th:only-of-type {\n",
       "        vertical-align: middle;\n",
       "    }\n",
       "\n",
       "    .dataframe tbody tr th {\n",
       "        vertical-align: top;\n",
       "    }\n",
       "\n",
       "    .dataframe thead th {\n",
       "        text-align: right;\n",
       "    }\n",
       "</style>\n",
       "<table border=\"1\" class=\"dataframe\">\n",
       "  <thead>\n",
       "    <tr style=\"text-align: right;\">\n",
       "      <th></th>\n",
       "      <th>temperature_0</th>\n",
       "      <th>temperature_1</th>\n",
       "      <th>humidity_0</th>\n",
       "      <th>humidity_1</th>\n",
       "      <th>light_intensity_0</th>\n",
       "      <th>light_intensity_1</th>\n",
       "      <th>light_intensity_2</th>\n",
       "      <th>light_intensity_3</th>\n",
       "      <th>light_intensity_4</th>\n",
       "      <th>light_intensity_5</th>\n",
       "      <th>...</th>\n",
       "      <th>soil_moisture_1</th>\n",
       "      <th>soil_moisture_2</th>\n",
       "      <th>soil_moisture_3</th>\n",
       "      <th>soil_moisture_4</th>\n",
       "      <th>soil_moisture_5</th>\n",
       "      <th>soil_moisture_6</th>\n",
       "      <th>soil_moisture_7</th>\n",
       "      <th>soil_moisture_8</th>\n",
       "      <th>solution_pH_0</th>\n",
       "      <th>solution_EC_0</th>\n",
       "    </tr>\n",
       "  </thead>\n",
       "  <tbody>\n",
       "    <tr>\n",
       "      <th>0</th>\n",
       "      <td>28.775</td>\n",
       "      <td>27.875</td>\n",
       "      <td>86.88</td>\n",
       "      <td>84.16</td>\n",
       "      <td>779.666667</td>\n",
       "      <td>519.166667</td>\n",
       "      <td>565.833333</td>\n",
       "      <td>535.750000</td>\n",
       "      <td>801.000000</td>\n",
       "      <td>387.333333</td>\n",
       "      <td>...</td>\n",
       "      <td>0.830777</td>\n",
       "      <td>0.621145</td>\n",
       "      <td>1.0</td>\n",
       "      <td>0.859257</td>\n",
       "      <td>1.0</td>\n",
       "      <td>0.773761</td>\n",
       "      <td>0.661958</td>\n",
       "      <td>0.391568</td>\n",
       "      <td>3.403628</td>\n",
       "      <td>0.995702</td>\n",
       "    </tr>\n",
       "    <tr>\n",
       "      <th>1</th>\n",
       "      <td>31.060</td>\n",
       "      <td>30.040</td>\n",
       "      <td>83.00</td>\n",
       "      <td>78.48</td>\n",
       "      <td>912.916667</td>\n",
       "      <td>592.416667</td>\n",
       "      <td>1973.833333</td>\n",
       "      <td>930.333333</td>\n",
       "      <td>2643.333333</td>\n",
       "      <td>4278.500000</td>\n",
       "      <td>...</td>\n",
       "      <td>0.843214</td>\n",
       "      <td>0.609999</td>\n",
       "      <td>1.0</td>\n",
       "      <td>0.840397</td>\n",
       "      <td>1.0</td>\n",
       "      <td>0.772066</td>\n",
       "      <td>0.650872</td>\n",
       "      <td>0.368084</td>\n",
       "      <td>3.401689</td>\n",
       "      <td>1.118414</td>\n",
       "    </tr>\n",
       "    <tr>\n",
       "      <th>2</th>\n",
       "      <td>30.380</td>\n",
       "      <td>30.040</td>\n",
       "      <td>86.00</td>\n",
       "      <td>76.00</td>\n",
       "      <td>755.416667</td>\n",
       "      <td>527.416667</td>\n",
       "      <td>731.000000</td>\n",
       "      <td>542.250000</td>\n",
       "      <td>823.750000</td>\n",
       "      <td>677.750000</td>\n",
       "      <td>...</td>\n",
       "      <td>0.833995</td>\n",
       "      <td>0.615449</td>\n",
       "      <td>1.0</td>\n",
       "      <td>0.836982</td>\n",
       "      <td>1.0</td>\n",
       "      <td>0.765059</td>\n",
       "      <td>0.655196</td>\n",
       "      <td>0.370144</td>\n",
       "      <td>3.401870</td>\n",
       "      <td>1.157004</td>\n",
       "    </tr>\n",
       "    <tr>\n",
       "      <th>3</th>\n",
       "      <td>30.900</td>\n",
       "      <td>31.180</td>\n",
       "      <td>86.12</td>\n",
       "      <td>71.48</td>\n",
       "      <td>746.250000</td>\n",
       "      <td>527.333333</td>\n",
       "      <td>651.250000</td>\n",
       "      <td>537.333333</td>\n",
       "      <td>802.666667</td>\n",
       "      <td>562.500000</td>\n",
       "      <td>...</td>\n",
       "      <td>0.839867</td>\n",
       "      <td>0.608664</td>\n",
       "      <td>1.0</td>\n",
       "      <td>0.824730</td>\n",
       "      <td>1.0</td>\n",
       "      <td>0.753250</td>\n",
       "      <td>0.644340</td>\n",
       "      <td>0.360977</td>\n",
       "      <td>3.401124</td>\n",
       "      <td>1.184810</td>\n",
       "    </tr>\n",
       "    <tr>\n",
       "      <th>4</th>\n",
       "      <td>31.200</td>\n",
       "      <td>31.480</td>\n",
       "      <td>85.32</td>\n",
       "      <td>71.36</td>\n",
       "      <td>713.666667</td>\n",
       "      <td>498.250000</td>\n",
       "      <td>585.000000</td>\n",
       "      <td>502.333333</td>\n",
       "      <td>760.083333</td>\n",
       "      <td>494.583333</td>\n",
       "      <td>...</td>\n",
       "      <td>0.876201</td>\n",
       "      <td>0.617384</td>\n",
       "      <td>1.0</td>\n",
       "      <td>0.815448</td>\n",
       "      <td>1.0</td>\n",
       "      <td>0.763590</td>\n",
       "      <td>0.656254</td>\n",
       "      <td>0.356238</td>\n",
       "      <td>3.400672</td>\n",
       "      <td>1.156288</td>\n",
       "    </tr>\n",
       "  </tbody>\n",
       "</table>\n",
       "<p>5 rows × 24 columns</p>\n",
       "</div>"
      ],
      "text/plain": [
       "   temperature_0  temperature_1  humidity_0  humidity_1  light_intensity_0  \\\n",
       "0         28.775         27.875       86.88       84.16         779.666667   \n",
       "1         31.060         30.040       83.00       78.48         912.916667   \n",
       "2         30.380         30.040       86.00       76.00         755.416667   \n",
       "3         30.900         31.180       86.12       71.48         746.250000   \n",
       "4         31.200         31.480       85.32       71.36         713.666667   \n",
       "\n",
       "   light_intensity_1  light_intensity_2  light_intensity_3  light_intensity_4  \\\n",
       "0         519.166667         565.833333         535.750000         801.000000   \n",
       "1         592.416667        1973.833333         930.333333        2643.333333   \n",
       "2         527.416667         731.000000         542.250000         823.750000   \n",
       "3         527.333333         651.250000         537.333333         802.666667   \n",
       "4         498.250000         585.000000         502.333333         760.083333   \n",
       "\n",
       "   light_intensity_5  ...  soil_moisture_1  soil_moisture_2  soil_moisture_3  \\\n",
       "0         387.333333  ...         0.830777         0.621145              1.0   \n",
       "1        4278.500000  ...         0.843214         0.609999              1.0   \n",
       "2         677.750000  ...         0.833995         0.615449              1.0   \n",
       "3         562.500000  ...         0.839867         0.608664              1.0   \n",
       "4         494.583333  ...         0.876201         0.617384              1.0   \n",
       "\n",
       "   soil_moisture_4  soil_moisture_5  soil_moisture_6  soil_moisture_7  \\\n",
       "0         0.859257              1.0         0.773761         0.661958   \n",
       "1         0.840397              1.0         0.772066         0.650872   \n",
       "2         0.836982              1.0         0.765059         0.655196   \n",
       "3         0.824730              1.0         0.753250         0.644340   \n",
       "4         0.815448              1.0         0.763590         0.656254   \n",
       "\n",
       "   soil_moisture_8  solution_pH_0  solution_EC_0  \n",
       "0         0.391568       3.403628       0.995702  \n",
       "1         0.368084       3.401689       1.118414  \n",
       "2         0.370144       3.401870       1.157004  \n",
       "3         0.360977       3.401124       1.184810  \n",
       "4         0.356238       3.400672       1.156288  \n",
       "\n",
       "[5 rows x 24 columns]"
      ]
     },
     "execution_count": 7,
     "metadata": {},
     "output_type": "execute_result"
    }
   ],
   "source": [
    "#sensor_df = pd.DataFrame.from_dict(data=sensor_dict)\n",
    "# since the dict values dont have equal length, use this instead\n",
    "sensor_df = pd.DataFrame(dict([ (k,pd.Series(v)) for k,v in sensor_dict.items() ]))\n",
    "sensor_df.head() # check first 5 rows"
   ]
  },
  {
   "cell_type": "code",
   "execution_count": 8,
   "id": "9e0c076c-c67e-479e-9d03-d849aef27fa9",
   "metadata": {},
   "outputs": [
    {
     "data": {
      "text/plain": [
       "(64, 24)"
      ]
     },
     "execution_count": 8,
     "metadata": {},
     "output_type": "execute_result"
    }
   ],
   "source": [
    "sensor_df.shape"
   ]
  },
  {
   "cell_type": "code",
   "execution_count": 9,
   "id": "8704a3d8-21fd-4ce9-b20e-49c4c15372ec",
   "metadata": {},
   "outputs": [],
   "source": [
    "assert not sensor_df.isnull().any().any(), \"sensor_df still contains  nans\" # raise an error if there's still nans"
   ]
  },
  {
   "cell_type": "markdown",
   "id": "b8f3e61b-d109-4dbd-ae2e-77850ae7eb33",
   "metadata": {},
   "source": [
    "## Averaging sensor types"
   ]
  },
  {
   "cell_type": "code",
   "execution_count": 10,
   "id": "4b45c459-cd9c-4a14-ad36-5cdb8fc76028",
   "metadata": {},
   "outputs": [],
   "source": [
    "temp_cols = [col for col in sensor_df.columns if \"temperature\" in col]\n",
    "humid_cols = [col for col in sensor_df.columns if \"humidity\" in col]\n",
    "li_cols = [col for col in sensor_df.columns if \"light_intensity\" in col]\n",
    "solution_EC = [col for col in sensor_df.columns if \"solution_EC\" in col]\n",
    "\n",
    "ph_cols = [col for col in sensor_df.columns if \"solution_pH\" in col]\n",
    "sm_cols = [col for col in sensor_df.columns if \"soil_moisture\" in col]"
   ]
  },
  {
   "cell_type": "code",
   "execution_count": 11,
   "id": "016ae8bf-24fe-4983-b1bd-210ae405a943",
   "metadata": {},
   "outputs": [],
   "source": [
    "ave_list = []\n",
    "\n",
    "temp_ave = sensor_df[temp_cols].mean(axis=1) # apply mean across column wise\n",
    "humid_ave = sensor_df[humid_cols].mean(axis=1)\n",
    "li_ave = sensor_df[li_cols].mean(axis=1)\n",
    "sm_ave = sensor_df[sm_cols].mean(axis=1)\n",
    "\n",
    "ave_list.append(temp_ave)\n",
    "ave_list.append(humid_ave)\n",
    "ave_list.append(li_ave)\n",
    "ave_list.append(sensor_df[solution_EC].squeeze())\n",
    "\n",
    "ave_list.append(sensor_df[ph_cols].squeeze())\n",
    "ave_list.append(sm_ave)"
   ]
  },
  {
   "cell_type": "code",
   "execution_count": 12,
   "id": "bf08817a-8fd0-4cf7-a067-7c75640e0d82",
   "metadata": {},
   "outputs": [
    {
     "data": {
      "text/html": [
       "<div>\n",
       "<style scoped>\n",
       "    .dataframe tbody tr th:only-of-type {\n",
       "        vertical-align: middle;\n",
       "    }\n",
       "\n",
       "    .dataframe tbody tr th {\n",
       "        vertical-align: top;\n",
       "    }\n",
       "\n",
       "    .dataframe thead th {\n",
       "        text-align: right;\n",
       "    }\n",
       "</style>\n",
       "<table border=\"1\" class=\"dataframe\">\n",
       "  <thead>\n",
       "    <tr style=\"text-align: right;\">\n",
       "      <th></th>\n",
       "      <th>temp_ave</th>\n",
       "      <th>humid_ave</th>\n",
       "      <th>li_ave</th>\n",
       "      <th>EC</th>\n",
       "      <th>ph</th>\n",
       "      <th>sm_ave</th>\n",
       "    </tr>\n",
       "  </thead>\n",
       "  <tbody>\n",
       "    <tr>\n",
       "      <th>0</th>\n",
       "      <td>28.325</td>\n",
       "      <td>85.52</td>\n",
       "      <td>704.675926</td>\n",
       "      <td>0.995702</td>\n",
       "      <td>3.403628</td>\n",
       "      <td>0.793163</td>\n",
       "    </tr>\n",
       "    <tr>\n",
       "      <th>1</th>\n",
       "      <td>30.550</td>\n",
       "      <td>80.74</td>\n",
       "      <td>2038.796296</td>\n",
       "      <td>1.118414</td>\n",
       "      <td>3.401689</td>\n",
       "      <td>0.787181</td>\n",
       "    </tr>\n",
       "    <tr>\n",
       "      <th>2</th>\n",
       "      <td>30.210</td>\n",
       "      <td>81.00</td>\n",
       "      <td>777.694444</td>\n",
       "      <td>1.157004</td>\n",
       "      <td>3.401870</td>\n",
       "      <td>0.786314</td>\n",
       "    </tr>\n",
       "    <tr>\n",
       "      <th>3</th>\n",
       "      <td>31.040</td>\n",
       "      <td>78.80</td>\n",
       "      <td>735.518519</td>\n",
       "      <td>1.184810</td>\n",
       "      <td>3.401124</td>\n",
       "      <td>0.781314</td>\n",
       "    </tr>\n",
       "    <tr>\n",
       "      <th>4</th>\n",
       "      <td>31.340</td>\n",
       "      <td>78.34</td>\n",
       "      <td>717.666667</td>\n",
       "      <td>1.156288</td>\n",
       "      <td>3.400672</td>\n",
       "      <td>0.787235</td>\n",
       "    </tr>\n",
       "  </tbody>\n",
       "</table>\n",
       "</div>"
      ],
      "text/plain": [
       "   temp_ave  humid_ave       li_ave        EC        ph    sm_ave\n",
       "0    28.325      85.52   704.675926  0.995702  3.403628  0.793163\n",
       "1    30.550      80.74  2038.796296  1.118414  3.401689  0.787181\n",
       "2    30.210      81.00   777.694444  1.157004  3.401870  0.786314\n",
       "3    31.040      78.80   735.518519  1.184810  3.401124  0.781314\n",
       "4    31.340      78.34   717.666667  1.156288  3.400672  0.787235"
      ]
     },
     "execution_count": 12,
     "metadata": {},
     "output_type": "execute_result"
    }
   ],
   "source": [
    "ave_cols = ['temp_ave', 'humid_ave', 'li_ave', 'EC', 'ph', 'sm_ave']\n",
    "#ave_cols = ['temp_ave', 'humid_ave', 'EC', 'ph', 'sm_ave']\n",
    "\n",
    "ave_dict = {}\n",
    "\n",
    "for k,v in zip(ave_cols, ave_list):\n",
    "    ave_dict[k] = v\n",
    "    \n",
    "\n",
    "ave_df = pd.DataFrame.from_dict(ave_dict)\n",
    "ave_df.head()"
   ]
  },
  {
   "cell_type": "code",
   "execution_count": 13,
   "id": "be084178-8f3b-475d-94c6-1bc92aa16196",
   "metadata": {},
   "outputs": [
    {
     "data": {
      "text/plain": [
       "(64, 6)"
      ]
     },
     "execution_count": 13,
     "metadata": {},
     "output_type": "execute_result"
    }
   ],
   "source": [
    "ave_df.shape"
   ]
  },
  {
   "cell_type": "code",
   "execution_count": 14,
   "id": "93c9f789-571b-43a5-aff1-24d214975f25",
   "metadata": {},
   "outputs": [
    {
     "data": {
      "text/html": [
       "<div>\n",
       "<style scoped>\n",
       "    .dataframe tbody tr th:only-of-type {\n",
       "        vertical-align: middle;\n",
       "    }\n",
       "\n",
       "    .dataframe tbody tr th {\n",
       "        vertical-align: top;\n",
       "    }\n",
       "\n",
       "    .dataframe thead th {\n",
       "        text-align: right;\n",
       "    }\n",
       "</style>\n",
       "<table border=\"1\" class=\"dataframe\">\n",
       "  <thead>\n",
       "    <tr style=\"text-align: right;\">\n",
       "      <th></th>\n",
       "      <th>type</th>\n",
       "      <th>index</th>\n",
       "      <th>value</th>\n",
       "    </tr>\n",
       "  </thead>\n",
       "  <tbody>\n",
       "    <tr>\n",
       "      <th>0</th>\n",
       "      <td>temperature</td>\n",
       "      <td>0</td>\n",
       "      <td>28.775000</td>\n",
       "    </tr>\n",
       "    <tr>\n",
       "      <th>1</th>\n",
       "      <td>temperature</td>\n",
       "      <td>1</td>\n",
       "      <td>27.875000</td>\n",
       "    </tr>\n",
       "    <tr>\n",
       "      <th>2</th>\n",
       "      <td>humidity</td>\n",
       "      <td>0</td>\n",
       "      <td>86.880000</td>\n",
       "    </tr>\n",
       "    <tr>\n",
       "      <th>3</th>\n",
       "      <td>humidity</td>\n",
       "      <td>1</td>\n",
       "      <td>84.160000</td>\n",
       "    </tr>\n",
       "    <tr>\n",
       "      <th>4</th>\n",
       "      <td>light_intensity</td>\n",
       "      <td>0</td>\n",
       "      <td>779.666667</td>\n",
       "    </tr>\n",
       "  </tbody>\n",
       "</table>\n",
       "</div>"
      ],
      "text/plain": [
       "              type  index       value\n",
       "0      temperature      0   28.775000\n",
       "1      temperature      1   27.875000\n",
       "2         humidity      0   86.880000\n",
       "3         humidity      1   84.160000\n",
       "4  light_intensity      0  779.666667"
      ]
     },
     "execution_count": 14,
     "metadata": {},
     "output_type": "execute_result"
    }
   ],
   "source": [
    "df.head()"
   ]
  },
  {
   "cell_type": "markdown",
   "id": "879824ae-63a3-40d8-ac00-d54dcb18e54d",
   "metadata": {},
   "source": [
    "## average data per day"
   ]
  },
  {
   "cell_type": "code",
   "execution_count": 15,
   "id": "e2cac61a-2f83-4e5b-a040-4809c5cbc4f4",
   "metadata": {},
   "outputs": [],
   "source": [
    "dfs = []\n",
    "num_days=3 # first 3 days for training and last day for testing\n",
    "hrs_per_day = 16 # each day contains 16 hrs\n",
    "\n",
    "for i in range(num_days):\n",
    "    _df = ave_df.iloc[i*hrs_per_day: (i+1)*hrs_per_day,:].reset_index().drop(['index'], axis=1)\n",
    "    dfs.append(_df)"
   ]
  },
  {
   "cell_type": "code",
   "execution_count": 16,
   "id": "e2e9fa22-daca-4476-959f-e5565c1bced4",
   "metadata": {},
   "outputs": [],
   "source": [
    "# ave_df_day = pd.concat(dfs).mean(level=0)\n",
    "\n",
    "ave_df_day = sum((adf.astype(float) for adf in dfs)) / len(dfs) # average all dfs per day\n"
   ]
  },
  {
   "cell_type": "markdown",
   "id": "4fda2d99-ea74-4c5b-8c91-388fd36c16e9",
   "metadata": {},
   "source": [
    "## train-test split"
   ]
  },
  {
   "cell_type": "code",
   "execution_count": 17,
   "id": "882aa717-d4e2-4f26-9dbd-3cbef031df0a",
   "metadata": {},
   "outputs": [],
   "source": [
    "ave_cols = ['temp_ave', 'humid_ave', 'li_ave', 'EC', 'ph', 'sm_ave']"
   ]
  },
  {
   "cell_type": "code",
   "execution_count": 18,
   "id": "2ce02f29-9bad-414b-9ef4-978b5fce5b31",
   "metadata": {},
   "outputs": [
    {
     "data": {
      "text/plain": [
       "Index(['temp_ave', 'humid_ave', 'li_ave', 'EC', 'ph', 'sm_ave'], dtype='object')"
      ]
     },
     "execution_count": 18,
     "metadata": {},
     "output_type": "execute_result"
    }
   ],
   "source": [
    "ave_df_day.columns"
   ]
  },
  {
   "cell_type": "code",
   "execution_count": 19,
   "id": "6559df15-8769-4803-9ff0-3dd719eee1e2",
   "metadata": {},
   "outputs": [
    {
     "name": "stdout",
     "output_type": "stream",
     "text": [
      "Train length: 16, Test length: 16\n"
     ]
    }
   ],
   "source": [
    "M,N = ave_df_day.shape\n",
    "\n",
    "X_cols = ave_df_day.columns[:-2]\n",
    "y_cols = ave_df_day.columns[-2:]\n",
    "\n",
    "# Train and test split\n",
    "train_percent = 1 # 80% of dataset goes to training\n",
    "\n",
    "train = ave_df_day.iloc[:int(M*train_percent),:]\n",
    "# test = ave_df_day.iloc[int(M*train_percent):,:]\n",
    "\n",
    "test = ave_df.iloc[-16:] # get last day for testing\n",
    "\n",
    "print(f\"Train length: {train.shape[0]}, Test length: {test.shape[0]}\")"
   ]
  },
  {
   "cell_type": "code",
   "execution_count": 20,
   "id": "bd71293b-ac07-40d7-8e23-e6ae5b63fba2",
   "metadata": {},
   "outputs": [],
   "source": [
    "X_train = train[X_cols]\n",
    "y_train = train[y_cols]\n",
    "\n",
    "X_test = test[X_cols]\n",
    "y_test = test[y_cols]"
   ]
  },
  {
   "cell_type": "code",
   "execution_count": 21,
   "id": "11e8d398-4c00-4e44-a1b4-d3dac9e9a2db",
   "metadata": {},
   "outputs": [
    {
     "data": {
      "image/png": "[encoded data removed]",
      "text/plain": [
       "<Figure size 700x1300 with 6 Axes>"
      ]
     },
     "metadata": {},
     "output_type": "display_data"
    }
   ],
   "source": [
    "start_time = 6\n",
    "\n",
    "\n",
    "fig, ax = plt.subplots(nrows=6, ncols=1, figsize=(7,13))\n",
    "\n",
    "for i, col in enumerate(ave_df_day.columns):\n",
    "    ax[i].plot(range(start_time,start_time+hrs_per_day), ave_df_day.iloc[:,i].values, label=col)\n",
    "        \n",
    "    ax[i].set_xlabel('index')\n",
    "    ax[i].set_ylabel(col)\n",
    "    # ax[i].set_xticks(range(hrs_per_day));\n",
    "    ax[i].set_xticks(range(6,6+hrs_per_day));\n",
    "    \n",
    "\n",
    "    \n",
    "plt.tight_layout()\n",
    "# plt.legend()\n",
    "# plt.xticks(range(1,25));\n",
    "plt.show()\n",
    "\n",
    "fig.savefig('features_plot.png')"
   ]
  },
  {
   "cell_type": "markdown",
   "id": "3aee2157-6646-4bf7-9253-a321a2085621",
   "metadata": {},
   "source": [
    "## extrapolation training"
   ]
  },
  {
   "cell_type": "code",
   "execution_count": 22,
   "id": "a6d3afbe-fe72-48cc-b9cf-70d5cbeef70d",
   "metadata": {},
   "outputs": [],
   "source": [
    "from sklearn.svm import SVR\n",
    "\n",
    "from sklearn.metrics import mean_absolute_percentage_error # MAPE\n",
    "from sklearn.metrics import mean_squared_error # MSE"
   ]
  },
  {
   "cell_type": "markdown",
   "id": "1387d68a-30fa-443c-8bde-ebb6c48395bf",
   "metadata": {},
   "source": [
    "### SVR"
   ]
  },
  {
   "cell_type": "code",
   "execution_count": 23,
   "id": "9ad9998e-b7bd-4ea5-ad80-be857200dbda",
   "metadata": {},
   "outputs": [
    {
     "data": {
      "text/html": [
       "<div>\n",
       "<style scoped>\n",
       "    .dataframe tbody tr th:only-of-type {\n",
       "        vertical-align: middle;\n",
       "    }\n",
       "\n",
       "    .dataframe tbody tr th {\n",
       "        vertical-align: top;\n",
       "    }\n",
       "\n",
       "    .dataframe thead th {\n",
       "        text-align: right;\n",
       "    }\n",
       "</style>\n",
       "<table border=\"1\" class=\"dataframe\">\n",
       "  <thead>\n",
       "    <tr style=\"text-align: right;\">\n",
       "      <th></th>\n",
       "      <th>ph</th>\n",
       "      <th>sm_ave</th>\n",
       "    </tr>\n",
       "  </thead>\n",
       "  <tbody>\n",
       "    <tr>\n",
       "      <th>0</th>\n",
       "      <td>3.400770</td>\n",
       "      <td>0.792215</td>\n",
       "    </tr>\n",
       "    <tr>\n",
       "      <th>1</th>\n",
       "      <td>3.398726</td>\n",
       "      <td>0.785291</td>\n",
       "    </tr>\n",
       "    <tr>\n",
       "      <th>2</th>\n",
       "      <td>3.398937</td>\n",
       "      <td>0.780842</td>\n",
       "    </tr>\n",
       "    <tr>\n",
       "      <th>3</th>\n",
       "      <td>3.398407</td>\n",
       "      <td>0.778968</td>\n",
       "    </tr>\n",
       "    <tr>\n",
       "      <th>4</th>\n",
       "      <td>3.397943</td>\n",
       "      <td>0.778113</td>\n",
       "    </tr>\n",
       "  </tbody>\n",
       "</table>\n",
       "</div>"
      ],
      "text/plain": [
       "         ph    sm_ave\n",
       "0  3.400770  0.792215\n",
       "1  3.398726  0.785291\n",
       "2  3.398937  0.780842\n",
       "3  3.398407  0.778968\n",
       "4  3.397943  0.778113"
      ]
     },
     "execution_count": 23,
     "metadata": {},
     "output_type": "execute_result"
    }
   ],
   "source": [
    "y_train.head()"
   ]
  },
  {
   "cell_type": "markdown",
   "id": "b1af7f3c-d772-4a3f-8b9d-2bc49ee215a3",
   "metadata": {},
   "source": [
    "## setup data"
   ]
  },
  {
   "cell_type": "code",
   "execution_count": 33,
   "id": "5f37437a-553c-429e-a560-69684cf4a20f",
   "metadata": {},
   "outputs": [],
   "source": [
    "# svr = SVR()\n",
    "\n",
    "scaler = MinMaxScaler()\n",
    "X_train_scaled = scaler.fit_transform(X_train)"
   ]
  },
  {
   "cell_type": "code",
   "execution_count": 25,
   "id": "249f4c63-1656-4e84-b59c-0ef74e17abc6",
   "metadata": {},
   "outputs": [
    {
     "data": {
      "text/html": [
       "<style>#sk-container-id-1 {color: black;background-color: white;}#sk-container-id-1 pre{padding: 0;}#sk-container-id-1 div.sk-toggleable {background-color: white;}#sk-container-id-1 label.sk-toggleable__label {cursor: pointer;display: block;width: 100%;margin-bottom: 0;padding: 0.3em;box-sizing: border-box;text-align: center;}#sk-container-id-1 label.sk-toggleable__label-arrow:before {content: \"▸\";float: left;margin-right: 0.25em;color: #696969;}#sk-container-id-1 label.sk-toggleable__label-arrow:hover:before {color: black;}#sk-container-id-1 div.sk-estimator:hover label.sk-toggleable__label-arrow:before {color: black;}#sk-container-id-1 div.sk-toggleable__content {max-height: 0;max-width: 0;overflow: hidden;text-align: left;background-color: #f0f8ff;}#sk-container-id-1 div.sk-toggleable__content pre {margin: 0.2em;color: black;border-radius: 0.25em;background-color: #f0f8ff;}#sk-container-id-1 input.sk-toggleable__control:checked~div.sk-toggleable__content {max-height: 200px;max-width: 100%;overflow: auto;}#sk-container-id-1 input.sk-toggleable__control:checked~label.sk-toggleable__label-arrow:before {content: \"▾\";}#sk-container-id-1 div.sk-estimator input.sk-toggleable__control:checked~label.sk-toggleable__label {background-color: #d4ebff;}#sk-container-id-1 div.sk-label input.sk-toggleable__control:checked~label.sk-toggleable__label {background-color: #d4ebff;}#sk-container-id-1 input.sk-hidden--visually {border: 0;clip: rect(1px 1px 1px 1px);clip: rect(1px, 1px, 1px, 1px);height: 1px;margin: -1px;overflow: hidden;padding: 0;position: absolute;width: 1px;}#sk-container-id-1 div.sk-estimator {font-family: monospace;background-color: #f0f8ff;border: 1px dotted black;border-radius: 0.25em;box-sizing: border-box;margin-bottom: 0.5em;}#sk-container-id-1 div.sk-estimator:hover {background-color: #d4ebff;}#sk-container-id-1 div.sk-parallel-item::after {content: \"\";width: 100%;border-bottom: 1px solid gray;flex-grow: 1;}#sk-container-id-1 div.sk-label:hover label.sk-toggleable__label {background-color: #d4ebff;}#sk-container-id-1 div.sk-serial::before {content: \"\";position: absolute;border-left: 1px solid gray;box-sizing: border-box;top: 0;bottom: 0;left: 50%;z-index: 0;}#sk-container-id-1 div.sk-serial {display: flex;flex-direction: column;align-items: center;background-color: white;padding-right: 0.2em;padding-left: 0.2em;position: relative;}#sk-container-id-1 div.sk-item {position: relative;z-index: 1;}#sk-container-id-1 div.sk-parallel {display: flex;align-items: stretch;justify-content: center;background-color: white;position: relative;}#sk-container-id-1 div.sk-item::before, #sk-container-id-1 div.sk-parallel-item::before {content: \"\";position: absolute;border-left: 1px solid gray;box-sizing: border-box;top: 0;bottom: 0;left: 50%;z-index: -1;}#sk-container-id-1 div.sk-parallel-item {display: flex;flex-direction: column;z-index: 1;position: relative;background-color: white;}#sk-container-id-1 div.sk-parallel-item:first-child::after {align-self: flex-end;width: 50%;}#sk-container-id-1 div.sk-parallel-item:last-child::after {align-self: flex-start;width: 50%;}#sk-container-id-1 div.sk-parallel-item:only-child::after {width: 0;}#sk-container-id-1 div.sk-dashed-wrapped {border: 1px dashed gray;margin: 0 0.4em 0.5em 0.4em;box-sizing: border-box;padding-bottom: 0.4em;background-color: white;}#sk-container-id-1 div.sk-label label {font-family: monospace;font-weight: bold;display: inline-block;line-height: 1.2em;}#sk-container-id-1 div.sk-label-container {text-align: center;}#sk-container-id-1 div.sk-container {/* jupyter's `normalize.less` sets `[hidden] { display: none; }` but bootstrap.min.css set `[hidden] { display: none !important; }` so we also need the `!important` here to be able to override the default hidden behavior on the sphinx rendered scikit-learn.org. See: https://github.com/scikit-learn/scikit-learn/issues/21755 */display: inline-block !important;position: relative;}#sk-container-id-1 div.sk-text-repr-fallback {display: none;}</style><div id=\"sk-container-id-1\" class=\"sk-top-container\"><div class=\"sk-text-repr-fallback\"><pre>Pipeline(steps=[(&#x27;minmaxscaler&#x27;, MinMaxScaler()), (&#x27;svr&#x27;, SVR())])</pre><b>In a Jupyter environment, please rerun this cell to show the HTML representation or trust the notebook. <br />On GitHub, the HTML representation is unable to render, please try loading this page with nbviewer.org.</b></div><div class=\"sk-container\" hidden><div class=\"sk-item sk-dashed-wrapped\"><div class=\"sk-label-container\"><div class=\"sk-label sk-toggleable\"><input class=\"sk-toggleable__control sk-hidden--visually\" id=\"sk-estimator-id-1\" type=\"checkbox\" ><label for=\"sk-estimator-id-1\" class=\"sk-toggleable__label sk-toggleable__label-arrow\">Pipeline</label><div class=\"sk-toggleable__content\"><pre>Pipeline(steps=[(&#x27;minmaxscaler&#x27;, MinMaxScaler()), (&#x27;svr&#x27;, SVR())])</pre></div></div></div><div class=\"sk-serial\"><div class=\"sk-item\"><div class=\"sk-estimator sk-toggleable\"><input class=\"sk-toggleable__control sk-hidden--visually\" id=\"sk-estimator-id-2\" type=\"checkbox\" ><label for=\"sk-estimator-id-2\" class=\"sk-toggleable__label sk-toggleable__label-arrow\">MinMaxScaler</label><div class=\"sk-toggleable__content\"><pre>MinMaxScaler()</pre></div></div></div><div class=\"sk-item\"><div class=\"sk-estimator sk-toggleable\"><input class=\"sk-toggleable__control sk-hidden--visually\" id=\"sk-estimator-id-3\" type=\"checkbox\" ><label for=\"sk-estimator-id-3\" class=\"sk-toggleable__label sk-toggleable__label-arrow\">SVR</label><div class=\"sk-toggleable__content\"><pre>SVR()</pre></div></div></div></div></div></div></div>"
      ],
      "text/plain": [
       "Pipeline(steps=[('minmaxscaler', MinMaxScaler()), ('svr', SVR())])"
      ]
     },
     "execution_count": 25,
     "metadata": {},
     "output_type": "execute_result"
    }
   ],
   "source": [
    "from sklearn.svm import SVR\n",
    "from sklearn.pipeline import make_pipeline\n",
    "from sklearn.preprocessing import MinMaxScaler\n",
    "\n",
    "svr_regr = make_pipeline(MinMaxScaler(), SVR())\n",
    "svr_regr.fit(X_train, y_train.iloc[:, 1])"
   ]
  },
  {
   "cell_type": "code",
   "execution_count": 26,
   "id": "5f582b9f-2226-45a2-b11c-e3828b66a91b",
   "metadata": {},
   "outputs": [
    {
     "name": "stdout",
     "output_type": "stream",
     "text": [
      "MAPE:  6.402965590470186 %\n"
     ]
    },
    {
     "name": "stderr",
     "output_type": "stream",
     "text": [
      "/Users/admin/opt/anaconda3/envs/deeplearn/lib/python3.9/site-packages/sklearn/base.py:450: UserWarning: X does not have valid feature names, but MinMaxScaler was fitted with feature names\n",
      "  warnings.warn(\n"
     ]
    }
   ],
   "source": [
    "y_pred_svr = svr_regr.predict(X_test.values)\n",
    "\n",
    "\n",
    "svr_mape = mean_absolute_percentage_error(y_pred_svr,  y_test.iloc[:, 1])\n",
    "\n",
    "print(\"MAPE: \",svr_mape*100,\"%\")"
   ]
  },
  {
   "cell_type": "markdown",
   "id": "f8688ae2-369c-45cb-8492-6ee7631018c5",
   "metadata": {},
   "source": [
    " ## LR "
   ]
  },
  {
   "cell_type": "code",
   "execution_count": 27,
   "id": "b57b28b7-d162-49da-a74c-b94164692069",
   "metadata": {},
   "outputs": [
    {
     "data": {
      "text/html": [
       "<style>#sk-container-id-2 {color: black;background-color: white;}#sk-container-id-2 pre{padding: 0;}#sk-container-id-2 div.sk-toggleable {background-color: white;}#sk-container-id-2 label.sk-toggleable__label {cursor: pointer;display: block;width: 100%;margin-bottom: 0;padding: 0.3em;box-sizing: border-box;text-align: center;}#sk-container-id-2 label.sk-toggleable__label-arrow:before {content: \"▸\";float: left;margin-right: 0.25em;color: #696969;}#sk-container-id-2 label.sk-toggleable__label-arrow:hover:before {color: black;}#sk-container-id-2 div.sk-estimator:hover label.sk-toggleable__label-arrow:before {color: black;}#sk-container-id-2 div.sk-toggleable__content {max-height: 0;max-width: 0;overflow: hidden;text-align: left;background-color: #f0f8ff;}#sk-container-id-2 div.sk-toggleable__content pre {margin: 0.2em;color: black;border-radius: 0.25em;background-color: #f0f8ff;}#sk-container-id-2 input.sk-toggleable__control:checked~div.sk-toggleable__content {max-height: 200px;max-width: 100%;overflow: auto;}#sk-container-id-2 input.sk-toggleable__control:checked~label.sk-toggleable__label-arrow:before {content: \"▾\";}#sk-container-id-2 div.sk-estimator input.sk-toggleable__control:checked~label.sk-toggleable__label {background-color: #d4ebff;}#sk-container-id-2 div.sk-label input.sk-toggleable__control:checked~label.sk-toggleable__label {background-color: #d4ebff;}#sk-container-id-2 input.sk-hidden--visually {border: 0;clip: rect(1px 1px 1px 1px);clip: rect(1px, 1px, 1px, 1px);height: 1px;margin: -1px;overflow: hidden;padding: 0;position: absolute;width: 1px;}#sk-container-id-2 div.sk-estimator {font-family: monospace;background-color: #f0f8ff;border: 1px dotted black;border-radius: 0.25em;box-sizing: border-box;margin-bottom: 0.5em;}#sk-container-id-2 div.sk-estimator:hover {background-color: #d4ebff;}#sk-container-id-2 div.sk-parallel-item::after {content: \"\";width: 100%;border-bottom: 1px solid gray;flex-grow: 1;}#sk-container-id-2 div.sk-label:hover label.sk-toggleable__label {background-color: #d4ebff;}#sk-container-id-2 div.sk-serial::before {content: \"\";position: absolute;border-left: 1px solid gray;box-sizing: border-box;top: 0;bottom: 0;left: 50%;z-index: 0;}#sk-container-id-2 div.sk-serial {display: flex;flex-direction: column;align-items: center;background-color: white;padding-right: 0.2em;padding-left: 0.2em;position: relative;}#sk-container-id-2 div.sk-item {position: relative;z-index: 1;}#sk-container-id-2 div.sk-parallel {display: flex;align-items: stretch;justify-content: center;background-color: white;position: relative;}#sk-container-id-2 div.sk-item::before, #sk-container-id-2 div.sk-parallel-item::before {content: \"\";position: absolute;border-left: 1px solid gray;box-sizing: border-box;top: 0;bottom: 0;left: 50%;z-index: -1;}#sk-container-id-2 div.sk-parallel-item {display: flex;flex-direction: column;z-index: 1;position: relative;background-color: white;}#sk-container-id-2 div.sk-parallel-item:first-child::after {align-self: flex-end;width: 50%;}#sk-container-id-2 div.sk-parallel-item:last-child::after {align-self: flex-start;width: 50%;}#sk-container-id-2 div.sk-parallel-item:only-child::after {width: 0;}#sk-container-id-2 div.sk-dashed-wrapped {border: 1px dashed gray;margin: 0 0.4em 0.5em 0.4em;box-sizing: border-box;padding-bottom: 0.4em;background-color: white;}#sk-container-id-2 div.sk-label label {font-family: monospace;font-weight: bold;display: inline-block;line-height: 1.2em;}#sk-container-id-2 div.sk-label-container {text-align: center;}#sk-container-id-2 div.sk-container {/* jupyter's `normalize.less` sets `[hidden] { display: none; }` but bootstrap.min.css set `[hidden] { display: none !important; }` so we also need the `!important` here to be able to override the default hidden behavior on the sphinx rendered scikit-learn.org. See: https://github.com/scikit-learn/scikit-learn/issues/21755 */display: inline-block !important;position: relative;}#sk-container-id-2 div.sk-text-repr-fallback {display: none;}</style><div id=\"sk-container-id-2\" class=\"sk-top-container\"><div class=\"sk-text-repr-fallback\"><pre>Pipeline(steps=[(&#x27;minmaxscaler&#x27;, MinMaxScaler()),\n",
       "                (&#x27;linearregression&#x27;, LinearRegression())])</pre><b>In a Jupyter environment, please rerun this cell to show the HTML representation or trust the notebook. <br />On GitHub, the HTML representation is unable to render, please try loading this page with nbviewer.org.</b></div><div class=\"sk-container\" hidden><div class=\"sk-item sk-dashed-wrapped\"><div class=\"sk-label-container\"><div class=\"sk-label sk-toggleable\"><input class=\"sk-toggleable__control sk-hidden--visually\" id=\"sk-estimator-id-4\" type=\"checkbox\" ><label for=\"sk-estimator-id-4\" class=\"sk-toggleable__label sk-toggleable__label-arrow\">Pipeline</label><div class=\"sk-toggleable__content\"><pre>Pipeline(steps=[(&#x27;minmaxscaler&#x27;, MinMaxScaler()),\n",
       "                (&#x27;linearregression&#x27;, LinearRegression())])</pre></div></div></div><div class=\"sk-serial\"><div class=\"sk-item\"><div class=\"sk-estimator sk-toggleable\"><input class=\"sk-toggleable__control sk-hidden--visually\" id=\"sk-estimator-id-5\" type=\"checkbox\" ><label for=\"sk-estimator-id-5\" class=\"sk-toggleable__label sk-toggleable__label-arrow\">MinMaxScaler</label><div class=\"sk-toggleable__content\"><pre>MinMaxScaler()</pre></div></div></div><div class=\"sk-item\"><div class=\"sk-estimator sk-toggleable\"><input class=\"sk-toggleable__control sk-hidden--visually\" id=\"sk-estimator-id-6\" type=\"checkbox\" ><label for=\"sk-estimator-id-6\" class=\"sk-toggleable__label sk-toggleable__label-arrow\">LinearRegression</label><div class=\"sk-toggleable__content\"><pre>LinearRegression()</pre></div></div></div></div></div></div></div>"
      ],
      "text/plain": [
       "Pipeline(steps=[('minmaxscaler', MinMaxScaler()),\n",
       "                ('linearregression', LinearRegression())])"
      ]
     },
     "execution_count": 27,
     "metadata": {},
     "output_type": "execute_result"
    }
   ],
   "source": [
    "from sklearn.linear_model import LinearRegression\n",
    "\n",
    "lr_regr = make_pipeline(MinMaxScaler(),LinearRegression())\n",
    "lr_regr.fit(X_train,  y_train.iloc[:, 1])"
   ]
  },
  {
   "cell_type": "code",
   "execution_count": 28,
   "id": "83a85c0f-04e9-4998-a3c7-2fec389895db",
   "metadata": {},
   "outputs": [
    {
     "name": "stdout",
     "output_type": "stream",
     "text": [
      "nutrient sol MAPE:  5.597568719208462 %\n"
     ]
    }
   ],
   "source": [
    "y_pred_lr = lr_regr.predict(X_test)\n",
    "lr_mape = mean_absolute_percentage_error(y_pred_lr,  y_test.iloc[:, 1])\n",
    "print(\"nutrient sol MAPE: \",lr_mape*100,\"%\")"
   ]
  },
  {
   "cell_type": "markdown",
   "id": "a0fa1ea9-422a-443e-8aae-4ec67efcf4ba",
   "metadata": {},
   "source": [
    "## soil moist"
   ]
  },
  {
   "cell_type": "code",
   "execution_count": 34,
   "id": "23c0306c-58eb-4545-92da-afdfe5e3a089",
   "metadata": {},
   "outputs": [
    {
     "data": {
      "text/html": [
       "<style>#sk-container-id-5 {color: black;background-color: white;}#sk-container-id-5 pre{padding: 0;}#sk-container-id-5 div.sk-toggleable {background-color: white;}#sk-container-id-5 label.sk-toggleable__label {cursor: pointer;display: block;width: 100%;margin-bottom: 0;padding: 0.3em;box-sizing: border-box;text-align: center;}#sk-container-id-5 label.sk-toggleable__label-arrow:before {content: \"▸\";float: left;margin-right: 0.25em;color: #696969;}#sk-container-id-5 label.sk-toggleable__label-arrow:hover:before {color: black;}#sk-container-id-5 div.sk-estimator:hover label.sk-toggleable__label-arrow:before {color: black;}#sk-container-id-5 div.sk-toggleable__content {max-height: 0;max-width: 0;overflow: hidden;text-align: left;background-color: #f0f8ff;}#sk-container-id-5 div.sk-toggleable__content pre {margin: 0.2em;color: black;border-radius: 0.25em;background-color: #f0f8ff;}#sk-container-id-5 input.sk-toggleable__control:checked~div.sk-toggleable__content {max-height: 200px;max-width: 100%;overflow: auto;}#sk-container-id-5 input.sk-toggleable__control:checked~label.sk-toggleable__label-arrow:before {content: \"▾\";}#sk-container-id-5 div.sk-estimator input.sk-toggleable__control:checked~label.sk-toggleable__label {background-color: #d4ebff;}#sk-container-id-5 div.sk-label input.sk-toggleable__control:checked~label.sk-toggleable__label {background-color: #d4ebff;}#sk-container-id-5 input.sk-hidden--visually {border: 0;clip: rect(1px 1px 1px 1px);clip: rect(1px, 1px, 1px, 1px);height: 1px;margin: -1px;overflow: hidden;padding: 0;position: absolute;width: 1px;}#sk-container-id-5 div.sk-estimator {font-family: monospace;background-color: #f0f8ff;border: 1px dotted black;border-radius: 0.25em;box-sizing: border-box;margin-bottom: 0.5em;}#sk-container-id-5 div.sk-estimator:hover {background-color: #d4ebff;}#sk-container-id-5 div.sk-parallel-item::after {content: \"\";width: 100%;border-bottom: 1px solid gray;flex-grow: 1;}#sk-container-id-5 div.sk-label:hover label.sk-toggleable__label {background-color: #d4ebff;}#sk-container-id-5 div.sk-serial::before {content: \"\";position: absolute;border-left: 1px solid gray;box-sizing: border-box;top: 0;bottom: 0;left: 50%;z-index: 0;}#sk-container-id-5 div.sk-serial {display: flex;flex-direction: column;align-items: center;background-color: white;padding-right: 0.2em;padding-left: 0.2em;position: relative;}#sk-container-id-5 div.sk-item {position: relative;z-index: 1;}#sk-container-id-5 div.sk-parallel {display: flex;align-items: stretch;justify-content: center;background-color: white;position: relative;}#sk-container-id-5 div.sk-item::before, #sk-container-id-5 div.sk-parallel-item::before {content: \"\";position: absolute;border-left: 1px solid gray;box-sizing: border-box;top: 0;bottom: 0;left: 50%;z-index: -1;}#sk-container-id-5 div.sk-parallel-item {display: flex;flex-direction: column;z-index: 1;position: relative;background-color: white;}#sk-container-id-5 div.sk-parallel-item:first-child::after {align-self: flex-end;width: 50%;}#sk-container-id-5 div.sk-parallel-item:last-child::after {align-self: flex-start;width: 50%;}#sk-container-id-5 div.sk-parallel-item:only-child::after {width: 0;}#sk-container-id-5 div.sk-dashed-wrapped {border: 1px dashed gray;margin: 0 0.4em 0.5em 0.4em;box-sizing: border-box;padding-bottom: 0.4em;background-color: white;}#sk-container-id-5 div.sk-label label {font-family: monospace;font-weight: bold;display: inline-block;line-height: 1.2em;}#sk-container-id-5 div.sk-label-container {text-align: center;}#sk-container-id-5 div.sk-container {/* jupyter's `normalize.less` sets `[hidden] { display: none; }` but bootstrap.min.css set `[hidden] { display: none !important; }` so we also need the `!important` here to be able to override the default hidden behavior on the sphinx rendered scikit-learn.org. See: https://github.com/scikit-learn/scikit-learn/issues/21755 */display: inline-block !important;position: relative;}#sk-container-id-5 div.sk-text-repr-fallback {display: none;}</style><div id=\"sk-container-id-5\" class=\"sk-top-container\"><div class=\"sk-text-repr-fallback\"><pre>Pipeline(steps=[(&#x27;minmaxscaler&#x27;, MinMaxScaler()), (&#x27;svr&#x27;, SVR())])</pre><b>In a Jupyter environment, please rerun this cell to show the HTML representation or trust the notebook. <br />On GitHub, the HTML representation is unable to render, please try loading this page with nbviewer.org.</b></div><div class=\"sk-container\" hidden><div class=\"sk-item sk-dashed-wrapped\"><div class=\"sk-label-container\"><div class=\"sk-label sk-toggleable\"><input class=\"sk-toggleable__control sk-hidden--visually\" id=\"sk-estimator-id-13\" type=\"checkbox\" ><label for=\"sk-estimator-id-13\" class=\"sk-toggleable__label sk-toggleable__label-arrow\">Pipeline</label><div class=\"sk-toggleable__content\"><pre>Pipeline(steps=[(&#x27;minmaxscaler&#x27;, MinMaxScaler()), (&#x27;svr&#x27;, SVR())])</pre></div></div></div><div class=\"sk-serial\"><div class=\"sk-item\"><div class=\"sk-estimator sk-toggleable\"><input class=\"sk-toggleable__control sk-hidden--visually\" id=\"sk-estimator-id-14\" type=\"checkbox\" ><label for=\"sk-estimator-id-14\" class=\"sk-toggleable__label sk-toggleable__label-arrow\">MinMaxScaler</label><div class=\"sk-toggleable__content\"><pre>MinMaxScaler()</pre></div></div></div><div class=\"sk-item\"><div class=\"sk-estimator sk-toggleable\"><input class=\"sk-toggleable__control sk-hidden--visually\" id=\"sk-estimator-id-15\" type=\"checkbox\" ><label for=\"sk-estimator-id-15\" class=\"sk-toggleable__label sk-toggleable__label-arrow\">SVR</label><div class=\"sk-toggleable__content\"><pre>SVR()</pre></div></div></div></div></div></div></div>"
      ],
      "text/plain": [
       "Pipeline(steps=[('minmaxscaler', MinMaxScaler()), ('svr', SVR())])"
      ]
     },
     "execution_count": 34,
     "metadata": {},
     "output_type": "execute_result"
    }
   ],
   "source": [
    "from sklearn.svm import SVR\n",
    "from sklearn.pipeline import make_pipeline\n",
    "from sklearn.preprocessing import MinMaxScaler\n",
    "\n",
    "svr_regr = make_pipeline(MinMaxScaler(), SVR())\n",
    "svr_regr.fit(X_train, y_train.iloc[:, 0])"
   ]
  },
  {
   "cell_type": "code",
   "execution_count": 37,
   "id": "3b1e1696-d91a-41aa-acbf-12d4a9dac46f",
   "metadata": {},
   "outputs": [
    {
     "name": "stdout",
     "output_type": "stream",
     "text": [
      "sm MAPE:  13.688166972239912 %\n"
     ]
    }
   ],
   "source": [
    "y_pred_svr = svr_regr.predict(X_test)\n",
    "\n",
    "svr_mape = mean_absolute_percentage_error(y_pred_svr, y_test.iloc[:, 0])\n",
    "print(\"sm MAPE: \",svr_mape*100,\"%\")"
   ]
  },
  {
   "cell_type": "markdown",
   "id": "bd8ee82b-8c9e-4c3e-b0c2-8ca1c493c6b2",
   "metadata": {},
   "source": [
    "## LR sm mape"
   ]
  },
  {
   "cell_type": "code",
   "execution_count": 38,
   "id": "ffc1c5fd-a794-45db-adff-eaf6f1d6c990",
   "metadata": {},
   "outputs": [
    {
     "data": {
      "text/html": [
       "<style>#sk-container-id-6 {color: black;background-color: white;}#sk-container-id-6 pre{padding: 0;}#sk-container-id-6 div.sk-toggleable {background-color: white;}#sk-container-id-6 label.sk-toggleable__label {cursor: pointer;display: block;width: 100%;margin-bottom: 0;padding: 0.3em;box-sizing: border-box;text-align: center;}#sk-container-id-6 label.sk-toggleable__label-arrow:before {content: \"▸\";float: left;margin-right: 0.25em;color: #696969;}#sk-container-id-6 label.sk-toggleable__label-arrow:hover:before {color: black;}#sk-container-id-6 div.sk-estimator:hover label.sk-toggleable__label-arrow:before {color: black;}#sk-container-id-6 div.sk-toggleable__content {max-height: 0;max-width: 0;overflow: hidden;text-align: left;background-color: #f0f8ff;}#sk-container-id-6 div.sk-toggleable__content pre {margin: 0.2em;color: black;border-radius: 0.25em;background-color: #f0f8ff;}#sk-container-id-6 input.sk-toggleable__control:checked~div.sk-toggleable__content {max-height: 200px;max-width: 100%;overflow: auto;}#sk-container-id-6 input.sk-toggleable__control:checked~label.sk-toggleable__label-arrow:before {content: \"▾\";}#sk-container-id-6 div.sk-estimator input.sk-toggleable__control:checked~label.sk-toggleable__label {background-color: #d4ebff;}#sk-container-id-6 div.sk-label input.sk-toggleable__control:checked~label.sk-toggleable__label {background-color: #d4ebff;}#sk-container-id-6 input.sk-hidden--visually {border: 0;clip: rect(1px 1px 1px 1px);clip: rect(1px, 1px, 1px, 1px);height: 1px;margin: -1px;overflow: hidden;padding: 0;position: absolute;width: 1px;}#sk-container-id-6 div.sk-estimator {font-family: monospace;background-color: #f0f8ff;border: 1px dotted black;border-radius: 0.25em;box-sizing: border-box;margin-bottom: 0.5em;}#sk-container-id-6 div.sk-estimator:hover {background-color: #d4ebff;}#sk-container-id-6 div.sk-parallel-item::after {content: \"\";width: 100%;border-bottom: 1px solid gray;flex-grow: 1;}#sk-container-id-6 div.sk-label:hover label.sk-toggleable__label {background-color: #d4ebff;}#sk-container-id-6 div.sk-serial::before {content: \"\";position: absolute;border-left: 1px solid gray;box-sizing: border-box;top: 0;bottom: 0;left: 50%;z-index: 0;}#sk-container-id-6 div.sk-serial {display: flex;flex-direction: column;align-items: center;background-color: white;padding-right: 0.2em;padding-left: 0.2em;position: relative;}#sk-container-id-6 div.sk-item {position: relative;z-index: 1;}#sk-container-id-6 div.sk-parallel {display: flex;align-items: stretch;justify-content: center;background-color: white;position: relative;}#sk-container-id-6 div.sk-item::before, #sk-container-id-6 div.sk-parallel-item::before {content: \"\";position: absolute;border-left: 1px solid gray;box-sizing: border-box;top: 0;bottom: 0;left: 50%;z-index: -1;}#sk-container-id-6 div.sk-parallel-item {display: flex;flex-direction: column;z-index: 1;position: relative;background-color: white;}#sk-container-id-6 div.sk-parallel-item:first-child::after {align-self: flex-end;width: 50%;}#sk-container-id-6 div.sk-parallel-item:last-child::after {align-self: flex-start;width: 50%;}#sk-container-id-6 div.sk-parallel-item:only-child::after {width: 0;}#sk-container-id-6 div.sk-dashed-wrapped {border: 1px dashed gray;margin: 0 0.4em 0.5em 0.4em;box-sizing: border-box;padding-bottom: 0.4em;background-color: white;}#sk-container-id-6 div.sk-label label {font-family: monospace;font-weight: bold;display: inline-block;line-height: 1.2em;}#sk-container-id-6 div.sk-label-container {text-align: center;}#sk-container-id-6 div.sk-container {/* jupyter's `normalize.less` sets `[hidden] { display: none; }` but bootstrap.min.css set `[hidden] { display: none !important; }` so we also need the `!important` here to be able to override the default hidden behavior on the sphinx rendered scikit-learn.org. See: https://github.com/scikit-learn/scikit-learn/issues/21755 */display: inline-block !important;position: relative;}#sk-container-id-6 div.sk-text-repr-fallback {display: none;}</style><div id=\"sk-container-id-6\" class=\"sk-top-container\"><div class=\"sk-text-repr-fallback\"><pre>Pipeline(steps=[(&#x27;minmaxscaler&#x27;, MinMaxScaler()),\n",
       "                (&#x27;linearregression&#x27;, LinearRegression())])</pre><b>In a Jupyter environment, please rerun this cell to show the HTML representation or trust the notebook. <br />On GitHub, the HTML representation is unable to render, please try loading this page with nbviewer.org.</b></div><div class=\"sk-container\" hidden><div class=\"sk-item sk-dashed-wrapped\"><div class=\"sk-label-container\"><div class=\"sk-label sk-toggleable\"><input class=\"sk-toggleable__control sk-hidden--visually\" id=\"sk-estimator-id-16\" type=\"checkbox\" ><label for=\"sk-estimator-id-16\" class=\"sk-toggleable__label sk-toggleable__label-arrow\">Pipeline</label><div class=\"sk-toggleable__content\"><pre>Pipeline(steps=[(&#x27;minmaxscaler&#x27;, MinMaxScaler()),\n",
       "                (&#x27;linearregression&#x27;, LinearRegression())])</pre></div></div></div><div class=\"sk-serial\"><div class=\"sk-item\"><div class=\"sk-estimator sk-toggleable\"><input class=\"sk-toggleable__control sk-hidden--visually\" id=\"sk-estimator-id-17\" type=\"checkbox\" ><label for=\"sk-estimator-id-17\" class=\"sk-toggleable__label sk-toggleable__label-arrow\">MinMaxScaler</label><div class=\"sk-toggleable__content\"><pre>MinMaxScaler()</pre></div></div></div><div class=\"sk-item\"><div class=\"sk-estimator sk-toggleable\"><input class=\"sk-toggleable__control sk-hidden--visually\" id=\"sk-estimator-id-18\" type=\"checkbox\" ><label for=\"sk-estimator-id-18\" class=\"sk-toggleable__label sk-toggleable__label-arrow\">LinearRegression</label><div class=\"sk-toggleable__content\"><pre>LinearRegression()</pre></div></div></div></div></div></div></div>"
      ],
      "text/plain": [
       "Pipeline(steps=[('minmaxscaler', MinMaxScaler()),\n",
       "                ('linearregression', LinearRegression())])"
      ]
     },
     "execution_count": 38,
     "metadata": {},
     "output_type": "execute_result"
    }
   ],
   "source": [
    "from sklearn.linear_model import LinearRegression\n",
    "\n",
    "lr_regr = make_pipeline(MinMaxScaler(),LinearRegression())\n",
    "lr_regr.fit(X_train, y_train.iloc[:, 0])"
   ]
  },
  {
   "cell_type": "code",
   "execution_count": 40,
   "id": "18c93eaa-c0c9-418e-8b05-cbf756318eca",
   "metadata": {},
   "outputs": [
    {
     "name": "stdout",
     "output_type": "stream",
     "text": [
      "MAPE:  11.996724402599689 %\n"
     ]
    }
   ],
   "source": [
    "y_pred_lr = lr_regr.predict(X_test)\n",
    "\n",
    "lr_mape = mean_absolute_percentage_error(y_pred_lr,  y_test.iloc[:, 0])\n",
    "print(\"MAPE: \",lr_mape*100,\"%\")"
   ]
  },
  {
   "cell_type": "code",
   "execution_count": 42,
   "id": "f2ba7fa3-7c22-4759-b617-8c0c3fa4efe9",
   "metadata": {},
   "outputs": [
    {
     "data": {
      "text/plain": [
       "['model_ph.sav']"
      ]
     },
     "execution_count": 42,
     "metadata": {},
     "output_type": "execute_result"
    }
   ],
   "source": [
    "import joblib\n",
    "# save the model to disk\n",
    "filename = 'model_ph.sav'\n",
    "# joblib.dump(lr_regr, filename)"
   ]
  }
 ],
 "metadata": {
  "kernelspec": {
   "display_name": "Python 3 (ipykernel)",
   "language": "python",
   "name": "python3"
  },
  "language_info": {
   "codemirror_mode": {
    "name": "ipython",
    "version": 3
   },
   "file_extension": ".py",
   "mimetype": "text/x-python",
   "name": "python",
   "nbconvert_exporter": "python",
   "pygments_lexer": "ipython3",
   "version": "3.9.13"
  }
 },
 "nbformat": 4,
 "nbformat_minor": 5
}
