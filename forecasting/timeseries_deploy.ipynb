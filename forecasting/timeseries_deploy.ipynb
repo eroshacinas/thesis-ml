{
 "cells": [
  {
   "cell_type": "code",
   "execution_count": 32,
   "id": "fef5d820-7dca-4786-86bc-4a5f9c48c88e",
   "metadata": {},
   "outputs": [],
   "source": [
    "import pickle\n",
    "import numpy as np\n",
    "import pandas as pd\n",
    "\n",
    "from sklearn.svm import SVR\n",
    "from sklearn.pipeline import make_pipeline\n",
    "from sklearn.preprocessing import MinMaxScaler"
   ]
  },
  {
   "cell_type": "code",
   "execution_count": 121,
   "id": "34fa0082-5205-416d-a3c1-7b6ab8dc32c9",
   "metadata": {},
   "outputs": [],
   "source": [
    "def _preprocess(df, drop_cols:list=None):\n",
    "    columns=['datetime', 'expt_num', 'sitename', 'type', 'index', 'value']\n",
    "    \n",
    "    try:\n",
    "        exp_num = df['expt_num'][0]\n",
    "        sitename = df['sitename'][0]\n",
    "        df.pop(['expt_num', 'sitename'], axis=1, inplace=True)\n",
    "\n",
    "    except:\n",
    "        print(\"Already dropped\")\n",
    "        \n",
    "    \n",
    "    # get unique sensor types\n",
    "    sensor_types = pd.unique(df['type'])\n",
    "    DATA_PER_SENSOR = sum(df['type'] == 'solution_pH')\n",
    "\n",
    "    for type in sensor_types:\n",
    "        mask = df['type'] == type\n",
    "        print(f\"{type}: {df[mask].shape[0] / DATA_PER_SENSOR:.2f} sensors\")\n",
    "        \n",
    "    # construct sensor dict\n",
    "    sensor_dict = {}\n",
    "    for typ in sensor_types:\n",
    "        _sensor = df.loc[df['type'] == typ] # select what type of sensor\n",
    "\n",
    "        for ind in pd.unique(_sensor['index']): # select ith sensor\n",
    "            sensor_dict[f'{typ}_{ind}'] = _sensor.loc[_sensor['index'] == ind]['value'].values\n",
    "            #print(f\"{typ}_{ind}: {_sensor.loc[_sensor['index'] == ind]['value'].isna().sum()} nan values\")\n",
    "            \n",
    "    # construct df\n",
    "    sensor_df = pd.DataFrame(dict([ (k,pd.Series(v)) for k,v in sensor_dict.items() ]))\n",
    "    \n",
    "    if drop_cols is not None:\n",
    "        for col in drop_cols:\n",
    "            sensor_df.pop(col) # drop column \n",
    "            print(f\"{col} dropped\")\n",
    "    \n",
    "    \n",
    "    if True in sensor_df.isna().any().values: # check if there are NaN values\n",
    "        sensor_df = sensor_df.interpolate(axis=0) # interpolate\n",
    "        print(\"NaN values detected, interpolation applied\")\n",
    "    \n",
    "    \n",
    "    # average every instance of a sensor type\n",
    "    temp_cols = [col for col in sensor_df.columns if \"temperature\" in col]\n",
    "    humid_cols = [col for col in sensor_df.columns if \"humidity\" in col]\n",
    "    li_cols = [col for col in sensor_df.columns if \"light_intensity\" in col]\n",
    "    solution_EC = [col for col in sensor_df.columns if \"solution_EC\" in col]\n",
    "\n",
    "    ph_cols = [col for col in sensor_df.columns if \"solution_pH\" in col]\n",
    "    sm_cols = [col for col in sensor_df.columns if \"soil_moisture\" in col]\n",
    "\n",
    "    ave_list = []\n",
    "\n",
    "    temp_ave = sensor_df[temp_cols].mean(axis=1) # apply mean across column wise\n",
    "    humid_ave = sensor_df[humid_cols].mean(axis=1)\n",
    "    li_ave = sensor_df[li_cols].mean(axis=1)\n",
    "    sm_ave = sensor_df[sm_cols].mean(axis=1)\n",
    "\n",
    "    ave_list.append(temp_ave)\n",
    "    ave_list.append(humid_ave)\n",
    "    ave_list.append(li_ave)\n",
    "    ave_list.append(sensor_df[solution_EC].squeeze())\n",
    "\n",
    "    ave_list.append(sensor_df[ph_cols].squeeze())\n",
    "    ave_list.append(sm_ave)\n",
    "\n",
    "    ave_cols = ['temp_ave', 'humid_ave', 'li_ave', 'EC', 'ph', 'sm_ave']\n",
    "\n",
    "    ave_dict = {}\n",
    "\n",
    "    for k,v in zip(ave_cols, ave_list):\n",
    "        ave_dict[k] = v\n",
    "\n",
    "\n",
    "    ave_df = pd.DataFrame.from_dict(ave_dict)\n",
    "    \n",
    "    return ave_df"
   ]
  },
  {
   "cell_type": "markdown",
   "id": "8c7e0183-7b8a-43f1-81ec-b08f70f826d1",
   "metadata": {},
   "source": [
    "filename = \"model_ph.sav\"\n",
    "loaded_model = pickle.load(open(filename, 'rb'))"
   ]
  },
  {
   "cell_type": "markdown",
   "id": "50cfa688-6681-4df1-8c13-0b893a0e3506",
   "metadata": {},
   "source": [
    "x = np.random.randn(1,4)\n",
    "loaded_model.predict(x) # test using random vars"
   ]
  },
  {
   "cell_type": "code",
   "execution_count": 124,
   "id": "4a535e79-8e79-4953-baf8-fbb25a27a42a",
   "metadata": {},
   "outputs": [],
   "source": [
    "import joblib\n",
    "filename = 'model_ph.sav'\n",
    "loaded_model = joblib.load(filename)"
   ]
  },
  {
   "cell_type": "markdown",
   "id": "bb30ec8a-c6b0-4b7c-bf89-cf36e9396289",
   "metadata": {},
   "source": [
    "## deployment"
   ]
  },
  {
   "cell_type": "code",
   "execution_count": 125,
   "id": "b8cd1abf-a099-42b0-b311-4f6e73a9623e",
   "metadata": {},
   "outputs": [
    {
     "data": {
      "text/html": [
       "<div>\n",
       "<style scoped>\n",
       "    .dataframe tbody tr th:only-of-type {\n",
       "        vertical-align: middle;\n",
       "    }\n",
       "\n",
       "    .dataframe tbody tr th {\n",
       "        vertical-align: top;\n",
       "    }\n",
       "\n",
       "    .dataframe thead th {\n",
       "        text-align: right;\n",
       "    }\n",
       "</style>\n",
       "<table border=\"1\" class=\"dataframe\">\n",
       "  <thead>\n",
       "    <tr style=\"text-align: right;\">\n",
       "      <th></th>\n",
       "      <th>datetime</th>\n",
       "      <th>expt_num</th>\n",
       "      <th>sitename</th>\n",
       "      <th>type</th>\n",
       "      <th>index</th>\n",
       "      <th>value</th>\n",
       "    </tr>\n",
       "  </thead>\n",
       "  <tbody>\n",
       "    <tr>\n",
       "      <th>0</th>\n",
       "      <td>02/14/2023 20:30</td>\n",
       "      <td>0</td>\n",
       "      <td>DLSU-BLAST</td>\n",
       "      <td>temperature</td>\n",
       "      <td>0</td>\n",
       "      <td>28.60</td>\n",
       "    </tr>\n",
       "    <tr>\n",
       "      <th>1</th>\n",
       "      <td>02/14/2023 20:30</td>\n",
       "      <td>0</td>\n",
       "      <td>DLSU-BLAST</td>\n",
       "      <td>humidity</td>\n",
       "      <td>0</td>\n",
       "      <td>55.20</td>\n",
       "    </tr>\n",
       "    <tr>\n",
       "      <th>2</th>\n",
       "      <td>02/14/2023 20:30</td>\n",
       "      <td>0</td>\n",
       "      <td>DLSU-BLAST</td>\n",
       "      <td>temperature</td>\n",
       "      <td>1</td>\n",
       "      <td>29.20</td>\n",
       "    </tr>\n",
       "    <tr>\n",
       "      <th>3</th>\n",
       "      <td>02/14/2023 20:30</td>\n",
       "      <td>0</td>\n",
       "      <td>DLSU-BLAST</td>\n",
       "      <td>humidity</td>\n",
       "      <td>1</td>\n",
       "      <td>62.60</td>\n",
       "    </tr>\n",
       "    <tr>\n",
       "      <th>4</th>\n",
       "      <td>02/14/2023 20:30</td>\n",
       "      <td>0</td>\n",
       "      <td>DLSU-BLAST</td>\n",
       "      <td>light_intensity</td>\n",
       "      <td>0</td>\n",
       "      <td>378.75</td>\n",
       "    </tr>\n",
       "  </tbody>\n",
       "</table>\n",
       "</div>"
      ],
      "text/plain": [
       "           datetime  expt_num    sitename             type  index   value\n",
       "0  02/14/2023 20:30         0  DLSU-BLAST      temperature      0   28.60\n",
       "1  02/14/2023 20:30         0  DLSU-BLAST         humidity      0   55.20\n",
       "2  02/14/2023 20:30         0  DLSU-BLAST      temperature      1   29.20\n",
       "3  02/14/2023 20:30         0  DLSU-BLAST         humidity      1   62.60\n",
       "4  02/14/2023 20:30         0  DLSU-BLAST  light_intensity      0  378.75"
      ]
     },
     "execution_count": 125,
     "metadata": {},
     "output_type": "execute_result"
    }
   ],
   "source": [
    "columns=['datetime', 'expt_num', 'sitename', 'type', 'index', 'value']\n",
    "df = pd.read_csv(\"Large_sensors.csv\", names=columns)\n",
    "\n",
    "df.head()"
   ]
  },
  {
   "cell_type": "code",
   "execution_count": 127,
   "id": "db7c170b-0a61-4d1e-9965-3bc15eb535e0",
   "metadata": {},
   "outputs": [
    {
     "name": "stdout",
     "output_type": "stream",
     "text": [
      "Already dropped\n",
      "temperature: 2.00 sensors\n",
      "humidity: 2.00 sensors\n",
      "light_intensity: 9.00 sensors\n",
      "soil_moisture: 9.00 sensors\n",
      "solution_pH: 1.00 sensors\n",
      "solution_EC: 1.00 sensors\n",
      "light_intensity_7 dropped\n",
      "NaN values detected, interpolation applied\n"
     ]
    },
    {
     "data": {
      "text/html": [
       "<div>\n",
       "<style scoped>\n",
       "    .dataframe tbody tr th:only-of-type {\n",
       "        vertical-align: middle;\n",
       "    }\n",
       "\n",
       "    .dataframe tbody tr th {\n",
       "        vertical-align: top;\n",
       "    }\n",
       "\n",
       "    .dataframe thead th {\n",
       "        text-align: right;\n",
       "    }\n",
       "</style>\n",
       "<table border=\"1\" class=\"dataframe\">\n",
       "  <thead>\n",
       "    <tr style=\"text-align: right;\">\n",
       "      <th></th>\n",
       "      <th>temp_ave</th>\n",
       "      <th>humid_ave</th>\n",
       "      <th>li_ave</th>\n",
       "      <th>EC</th>\n",
       "      <th>ph</th>\n",
       "      <th>sm_ave</th>\n",
       "    </tr>\n",
       "  </thead>\n",
       "  <tbody>\n",
       "    <tr>\n",
       "      <th>0</th>\n",
       "      <td>28.90</td>\n",
       "      <td>58.90</td>\n",
       "      <td>401.822917</td>\n",
       "      <td>2.628156</td>\n",
       "      <td>3.238167</td>\n",
       "      <td>0.984269</td>\n",
       "    </tr>\n",
       "    <tr>\n",
       "      <th>1</th>\n",
       "      <td>26.85</td>\n",
       "      <td>58.70</td>\n",
       "      <td>403.020833</td>\n",
       "      <td>2.447942</td>\n",
       "      <td>3.237843</td>\n",
       "      <td>0.982880</td>\n",
       "    </tr>\n",
       "    <tr>\n",
       "      <th>2</th>\n",
       "      <td>26.65</td>\n",
       "      <td>60.85</td>\n",
       "      <td>409.531250</td>\n",
       "      <td>2.416456</td>\n",
       "      <td>3.237111</td>\n",
       "      <td>0.982002</td>\n",
       "    </tr>\n",
       "    <tr>\n",
       "      <th>3</th>\n",
       "      <td>24.70</td>\n",
       "      <td>72.00</td>\n",
       "      <td>0.052083</td>\n",
       "      <td>0.828667</td>\n",
       "      <td>3.230280</td>\n",
       "      <td>0.959288</td>\n",
       "    </tr>\n",
       "    <tr>\n",
       "      <th>4</th>\n",
       "      <td>24.80</td>\n",
       "      <td>71.70</td>\n",
       "      <td>432.083333</td>\n",
       "      <td>0.818954</td>\n",
       "      <td>3.237111</td>\n",
       "      <td>0.969119</td>\n",
       "    </tr>\n",
       "  </tbody>\n",
       "</table>\n",
       "</div>"
      ],
      "text/plain": [
       "   temp_ave  humid_ave      li_ave        EC        ph    sm_ave\n",
       "0     28.90      58.90  401.822917  2.628156  3.238167  0.984269\n",
       "1     26.85      58.70  403.020833  2.447942  3.237843  0.982880\n",
       "2     26.65      60.85  409.531250  2.416456  3.237111  0.982002\n",
       "3     24.70      72.00    0.052083  0.828667  3.230280  0.959288\n",
       "4     24.80      71.70  432.083333  0.818954  3.237111  0.969119"
      ]
     },
     "execution_count": 127,
     "metadata": {},
     "output_type": "execute_result"
    }
   ],
   "source": [
    "sensor_ave_df = _preprocess(df, drop_cols=['light_intensity_7'])\n",
    "sensor_ave_df.head()"
   ]
  },
  {
   "cell_type": "code",
   "execution_count": 62,
   "id": "9f153b80-e94b-498c-8c1e-3e672a742069",
   "metadata": {},
   "outputs": [
    {
     "name": "stdout",
     "output_type": "stream",
     "text": [
      "Already dropped\n"
     ]
    }
   ],
   "source": [
    "try:\n",
    "    exp_num = df['expt_num'][0]\n",
    "    sitename = df['sitename'][0]\n",
    "    df.pop(['expt_num', 'sitename'], axis=1, inplace=True)\n",
    "\n",
    "except:\n",
    "    print(\"Already dropped\")"
   ]
  },
  {
   "cell_type": "code",
   "execution_count": 72,
   "id": "10d1b7da-27ff-4b53-8d6b-1c32ec13a05c",
   "metadata": {},
   "outputs": [
    {
     "name": "stdout",
     "output_type": "stream",
     "text": [
      "temperature: 2.00 sensors\n",
      "humidity: 2.00 sensors\n",
      "light_intensity: 9.00 sensors\n",
      "soil_moisture: 9.00 sensors\n",
      "solution_pH: 1.00 sensors\n",
      "solution_EC: 1.00 sensors\n"
     ]
    }
   ],
   "source": [
    "sensor_types = pd.unique(df['type'])\n",
    "DATA_PER_SENSOR = sum(df['type'] == 'solution_pH')\n",
    "\n",
    "for type in sensor_types:\n",
    "    mask = df['type'] == type\n",
    "    print(f\"{type}: {df[mask].shape[0] / DATA_PER_SENSOR:.2f} sensors\")"
   ]
  },
  {
   "cell_type": "code",
   "execution_count": 73,
   "id": "90c8baaf-f174-480c-a10c-e2e2deb06782",
   "metadata": {},
   "outputs": [
    {
     "name": "stdout",
     "output_type": "stream",
     "text": [
      "temperature: 2.00 sensors\n",
      "humidity: 2.00 sensors\n",
      "light_intensity: 9.00 sensors\n",
      "soil_moisture: 9.00 sensors\n",
      "solution_pH: 1.00 sensors\n",
      "solution_EC: 1.00 sensors\n"
     ]
    }
   ],
   "source": [
    "DATA_PER_SENSOR = sum(df['type'] == 'solution_pH')\n",
    "\n",
    "for type in sensor_types:\n",
    "    mask = df['type'] == type\n",
    "    print(f\"{type}: {df[mask].shape[0] / DATA_PER_SENSOR:.2f} sensors\")"
   ]
  },
  {
   "cell_type": "code",
   "execution_count": 77,
   "id": "b95215b2-03bc-4265-8bf6-5517a2c5dea2",
   "metadata": {},
   "outputs": [
    {
     "name": "stdout",
     "output_type": "stream",
     "text": [
      "temperature_0: 1 nan values\n",
      "temperature_1: 0 nan values\n",
      "humidity_0: 1 nan values\n",
      "humidity_1: 0 nan values\n",
      "light_intensity_0: 547 nan values\n",
      "light_intensity_1: 158 nan values\n",
      "light_intensity_2: 158 nan values\n",
      "light_intensity_3: 189 nan values\n",
      "light_intensity_4: 158 nan values\n",
      "light_intensity_5: 158 nan values\n",
      "light_intensity_6: 547 nan values\n",
      "light_intensity_7: 654 nan values\n",
      "light_intensity_8: 473 nan values\n",
      "soil_moisture_0: 0 nan values\n",
      "soil_moisture_1: 0 nan values\n",
      "soil_moisture_2: 0 nan values\n",
      "soil_moisture_3: 0 nan values\n",
      "soil_moisture_4: 0 nan values\n",
      "soil_moisture_5: 0 nan values\n",
      "soil_moisture_6: 0 nan values\n",
      "soil_moisture_7: 0 nan values\n",
      "soil_moisture_8: 0 nan values\n",
      "solution_pH_0: 0 nan values\n",
      "solution_EC_0: 0 nan values\n"
     ]
    }
   ],
   "source": [
    "sensor_dict = {}\n",
    "for typ in sensor_types:\n",
    "    _sensor = df.loc[df['type'] == typ] # select what type of sensor\n",
    "    \n",
    "    for ind in pd.unique(_sensor['index']): # select ith sensor\n",
    "        sensor_dict[f'{typ}_{ind}'] = _sensor.loc[_sensor['index'] == ind]['value'].values\n",
    "        print(f\"{typ}_{ind}: {_sensor.loc[_sensor['index'] == ind]['value'].isna().sum()} nan values\")"
   ]
  },
  {
   "cell_type": "code",
   "execution_count": 79,
   "id": "15de790d-2de5-4b37-87cd-003d35fbc918",
   "metadata": {},
   "outputs": [
    {
     "data": {
      "text/plain": [
       "0     NaN\n",
       "1     NaN\n",
       "2     NaN\n",
       "3     NaN\n",
       "4     NaN\n",
       "       ..\n",
       "649   NaN\n",
       "650   NaN\n",
       "651   NaN\n",
       "652   NaN\n",
       "653   NaN\n",
       "Name: light_intensity_7, Length: 654, dtype: float64"
      ]
     },
     "execution_count": 79,
     "metadata": {},
     "output_type": "execute_result"
    }
   ],
   "source": [
    "#sensor_df = pd.DataFrame.from_dict(data=sensor_dict)\n",
    "# since the dict values dont have equal length, use this instead\n",
    "sensor_df = pd.DataFrame(dict([ (k,pd.Series(v)) for k,v in sensor_dict.items() ]))\n",
    "sensor_df.pop('light_intensity_7') # drop column containing all NaNs"
   ]
  },
  {
   "cell_type": "code",
   "execution_count": 99,
   "id": "a359afc4-c919-4495-b249-32ac9211b25b",
   "metadata": {},
   "outputs": [],
   "source": [
    "if True in sensor_df.isna().any().values: # check if there are NaN values\n",
    "    sensor_df = sensor_df.interpolate(axis=0) # interpolate"
   ]
  },
  {
   "cell_type": "code",
   "execution_count": 103,
   "id": "b36646d2-3a05-42dd-ba22-f4e26ae8d29a",
   "metadata": {},
   "outputs": [
    {
     "data": {
      "text/html": [
       "<div>\n",
       "<style scoped>\n",
       "    .dataframe tbody tr th:only-of-type {\n",
       "        vertical-align: middle;\n",
       "    }\n",
       "\n",
       "    .dataframe tbody tr th {\n",
       "        vertical-align: top;\n",
       "    }\n",
       "\n",
       "    .dataframe thead th {\n",
       "        text-align: right;\n",
       "    }\n",
       "</style>\n",
       "<table border=\"1\" class=\"dataframe\">\n",
       "  <thead>\n",
       "    <tr style=\"text-align: right;\">\n",
       "      <th></th>\n",
       "      <th>temp_ave</th>\n",
       "      <th>humid_ave</th>\n",
       "      <th>li_ave</th>\n",
       "      <th>EC</th>\n",
       "      <th>ph</th>\n",
       "      <th>sm_ave</th>\n",
       "    </tr>\n",
       "  </thead>\n",
       "  <tbody>\n",
       "    <tr>\n",
       "      <th>0</th>\n",
       "      <td>28.90</td>\n",
       "      <td>58.90</td>\n",
       "      <td>401.822917</td>\n",
       "      <td>2.628156</td>\n",
       "      <td>3.238167</td>\n",
       "      <td>0.984269</td>\n",
       "    </tr>\n",
       "    <tr>\n",
       "      <th>1</th>\n",
       "      <td>26.85</td>\n",
       "      <td>58.70</td>\n",
       "      <td>403.020833</td>\n",
       "      <td>2.447942</td>\n",
       "      <td>3.237843</td>\n",
       "      <td>0.982880</td>\n",
       "    </tr>\n",
       "    <tr>\n",
       "      <th>2</th>\n",
       "      <td>26.65</td>\n",
       "      <td>60.85</td>\n",
       "      <td>409.531250</td>\n",
       "      <td>2.416456</td>\n",
       "      <td>3.237111</td>\n",
       "      <td>0.982002</td>\n",
       "    </tr>\n",
       "    <tr>\n",
       "      <th>3</th>\n",
       "      <td>24.70</td>\n",
       "      <td>72.00</td>\n",
       "      <td>0.052083</td>\n",
       "      <td>0.828667</td>\n",
       "      <td>3.230280</td>\n",
       "      <td>0.959288</td>\n",
       "    </tr>\n",
       "    <tr>\n",
       "      <th>4</th>\n",
       "      <td>24.80</td>\n",
       "      <td>71.70</td>\n",
       "      <td>432.083333</td>\n",
       "      <td>0.818954</td>\n",
       "      <td>3.237111</td>\n",
       "      <td>0.969119</td>\n",
       "    </tr>\n",
       "  </tbody>\n",
       "</table>\n",
       "</div>"
      ],
      "text/plain": [
       "   temp_ave  humid_ave      li_ave        EC        ph    sm_ave\n",
       "0     28.90      58.90  401.822917  2.628156  3.238167  0.984269\n",
       "1     26.85      58.70  403.020833  2.447942  3.237843  0.982880\n",
       "2     26.65      60.85  409.531250  2.416456  3.237111  0.982002\n",
       "3     24.70      72.00    0.052083  0.828667  3.230280  0.959288\n",
       "4     24.80      71.70  432.083333  0.818954  3.237111  0.969119"
      ]
     },
     "execution_count": 103,
     "metadata": {},
     "output_type": "execute_result"
    }
   ],
   "source": [
    "# average every instance of a sensor type\n",
    "temp_cols = [col for col in sensor_df.columns if \"temperature\" in col]\n",
    "humid_cols = [col for col in sensor_df.columns if \"humidity\" in col]\n",
    "li_cols = [col for col in sensor_df.columns if \"light_intensity\" in col]\n",
    "solution_EC = [col for col in sensor_df.columns if \"solution_EC\" in col]\n",
    "\n",
    "ph_cols = [col for col in sensor_df.columns if \"solution_pH\" in col]\n",
    "sm_cols = [col for col in sensor_df.columns if \"soil_moisture\" in col]\n",
    "\n",
    "ave_list = []\n",
    "\n",
    "temp_ave = sensor_df[temp_cols].mean(axis=1) # apply mean across column wise\n",
    "humid_ave = sensor_df[humid_cols].mean(axis=1)\n",
    "li_ave = sensor_df[li_cols].mean(axis=1)\n",
    "sm_ave = sensor_df[sm_cols].mean(axis=1)\n",
    "\n",
    "ave_list.append(temp_ave)\n",
    "ave_list.append(humid_ave)\n",
    "ave_list.append(li_ave)\n",
    "ave_list.append(sensor_df[solution_EC].squeeze())\n",
    "\n",
    "ave_list.append(sensor_df[ph_cols].squeeze())\n",
    "ave_list.append(sm_ave)\n",
    "\n",
    "ave_cols = ['temp_ave', 'humid_ave', 'li_ave', 'EC', 'ph', 'sm_ave']\n",
    "\n",
    "ave_dict = {}\n",
    "\n",
    "for k,v in zip(ave_cols, ave_list):\n",
    "    ave_dict[k] = v\n",
    "    \n",
    "\n",
    "ave_df = pd.DataFrame.from_dict(ave_dict)\n",
    "ave_df.head()"
   ]
  },
  {
   "cell_type": "code",
   "execution_count": 108,
   "id": "7f1d9529-2847-4a9d-a102-f52b5e6290da",
   "metadata": {},
   "outputs": [
    {
     "data": {
      "text/plain": [
       "(654, 4)"
      ]
     },
     "execution_count": 108,
     "metadata": {},
     "output_type": "execute_result"
    }
   ],
   "source": [
    "X = ave_df.iloc[:,:4].values\n",
    "X.shape"
   ]
  },
  {
   "cell_type": "code",
   "execution_count": 112,
   "id": "fc7c470c-2af3-48b3-b902-d9f9f4bda3cd",
   "metadata": {},
   "outputs": [
    {
     "data": {
      "text/plain": [
       "array([3.59734133])"
      ]
     },
     "execution_count": 112,
     "metadata": {},
     "output_type": "execute_result"
    }
   ],
   "source": [
    "loaded_model.predict(X[-1].reshape(-1,4))"
   ]
  },
  {
   "cell_type": "code",
   "execution_count": 114,
   "id": "1eec169b-20a2-401e-8956-679ab1203232",
   "metadata": {},
   "outputs": [
    {
     "data": {
      "text/plain": [
       "array([3.32140264, 3.33826528, 3.3486016 , 3.33006431])"
      ]
     },
     "execution_count": 114,
     "metadata": {},
     "output_type": "execute_result"
    }
   ],
   "source": [
    "loaded_model.predict(X[0:4].reshape(-1,4)) # get latest temp, humid, li, and EC for extrapolation"
   ]
  },
  {
   "cell_type": "code",
   "execution_count": null,
   "id": "ee97a853-60e9-4650-b62e-69cef4a167e4",
   "metadata": {},
   "outputs": [],
   "source": []
  }
 ],
 "metadata": {
  "kernelspec": {
   "display_name": "Python 3 (ipykernel)",
   "language": "python",
   "name": "python3"
  },
  "language_info": {
   "codemirror_mode": {
    "name": "ipython",
    "version": 3
   },
   "file_extension": ".py",
   "mimetype": "text/x-python",
   "name": "python",
   "nbconvert_exporter": "python",
   "pygments_lexer": "ipython3",
   "version": "3.9.7"
  }
 },
 "nbformat": 4,
 "nbformat_minor": 5
}
