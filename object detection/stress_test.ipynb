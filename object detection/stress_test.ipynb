{
 "cells": [
  {
   "cell_type": "code",
   "execution_count": 1,
   "id": "973af8ff",
   "metadata": {},
   "outputs": [],
   "source": [
    "import os\n",
    "os.environ['CUDA_VISIBLE_DEVICES'] = '0'\n",
    "\n",
    "import cv2\n",
    "import shutil\n",
    "import torch\n",
    "from pathlib import Path\n",
    "import pandas as pd\n",
    "import numpy as np\n",
    "\n",
    "from helper_functions.tile import tile_img\n",
    "from helper_functions.stitch import stitch_labels\n",
    "from helper_functions.evaluate_helpers import yolo_format_to_bbox_corners, _evaluate, _precision_recall_f1\n",
    "\n",
    "from ultralytics import YOLO\n",
    "import time"
   ]
  },
  {
   "cell_type": "code",
   "execution_count": 2,
   "id": "37472000",
   "metadata": {},
   "outputs": [],
   "source": [
    "def predict_yolo(pred_path:str,  # folder containing all images for inference\")\n",
    "                 label_save_path:str, # folder to save the label txts stitched\n",
    "                 weight_dir:str, # path to pre-trained model weights\n",
    "                 save_tiles_path:str=\"tiled\", # temporary folder to store tiled images \n",
    "                 conf:float=0.25, # conf threshold of model\n",
    "                 save_txt:bool=True):\n",
    "    \n",
    "    pred_path = Path(pred_path)\n",
    "    label_save_path = Path(label_save_path)\n",
    "\n",
    "\n",
    "    pred_imgs = list(pred_path.glob(\"*.jpg\")) # get all images path in pred_path\n",
    "\n",
    "  \n",
    "\n",
    "    for img_path in pred_imgs:\n",
    "        img = cv2.imread(str(img_path))\n",
    "        HEIGHT, WIDTH = img.shape[:2]\n",
    "\n",
    "        tile_img(img=img,\n",
    "                save_path=save_tiles_path)\n",
    "\n",
    "\n",
    "        # use this if CLI is not working\n",
    "#         device='cuda' if torch.cuda.is_available() else 'cpu'\n",
    "        device='cpu' # CHANGE THIS\n",
    "        model = YOLO(weight_dir) # instantiate model\n",
    "        \n",
    "        model.predict(source=save_tiles_path, save_txt=save_txt, exist_ok=True, conf=conf, verbose=False)\n",
    "        #model.predict(source=save_tiles_path, save_txt=save_txt, exist_ok=True, save_conf=False)\n",
    "\n",
    "\n",
    "\n",
    "        if not label_save_path.exists():\n",
    "            os.makedirs(label_save_path, exist_ok=True)\n",
    "\n",
    "        master_df = stitch_labels(\"./runs/detect/predict/labels\",\n",
    "                      HEIGHT = HEIGHT,\n",
    "                      WIDTH=WIDTH)\n",
    "\n",
    "        master_df.to_csv(str(label_save_path / img_path.name[:-4])+\".txt\", sep=\" \", header=None, index=False) # save stitched labels \n",
    "        \n",
    "        shutil.rmtree(\"runs\")"
   ]
  },
  {
   "cell_type": "code",
   "execution_count": 3,
   "id": "fa9cce9a",
   "metadata": {},
   "outputs": [],
   "source": [
    "conf_thres_list = [0.3]\n",
    "\n",
    "input_paths = list(Path('stress-test-data').glob('*'))\n",
    "#gt_location = 'tomatoes test'\n",
    "# gt_paths = list(Path(gt_location).glob(\"*.txt\"))\n",
    "\n",
    "\n",
    "# save path of detections in tiled imgs\n",
    "tile_imgs_path = 'tiled'\n",
    "output_path = './runs/detect/predict/labels' \n",
    "os.makedirs(output_path, exist_ok=True)\n",
    "\n",
    "# where to save stitched pred outputs\n",
    "test_set_pred_output = Path('./test_set_preds')\n",
    "os.makedirs(test_set_pred_output, exist_ok=True)\n",
    "\n",
    "df_col_names = ['class', 'x1', 'y1', 'w', 'h'] \n",
    "\n",
    "idx2class = {0:'flower', 1:'leaf'}\n",
    "target_class_list = [0, 1] # idx list of obj classes\n",
    "\n",
    "# idx2class = {0:'flower', 1:'leaf', 2: 'tomato'}\n",
    "# target_class_list = [0, 1, 2] # idx list of obj classes\n",
    "\n",
    "\n",
    "\n",
    "\n",
    "# path to store csv results\n",
    "csv_path = './csv_test_results'"
   ]
  },
  {
   "cell_type": "code",
   "execution_count": 4,
   "id": "0e5cd495",
   "metadata": {},
   "outputs": [
    {
     "data": {
      "text/plain": [
       "['yolov8l_tomato_crop',\n",
       " 'yolov8l_tomato_noaug',\n",
       " 'yolov8l_tomato_rotate',\n",
       " 'yolov8m_tomato_crop',\n",
       " 'yolov8m_tomato_noaug',\n",
       " 'yolov8m_tomato_rotate',\n",
       " 'yolov8s_tomato_crop',\n",
       " 'yolov8s_tomato_noaug',\n",
       " 'yolov8s_tomato_rotate']"
      ]
     },
     "execution_count": 4,
     "metadata": {},
     "output_type": "execute_result"
    }
   ],
   "source": [
    "# model_names = [path.stem for path in list(Path('yolov8_weights_notomato').glob('*')) if path.stem != '.ipynb_checkpoints']\n",
    "model_names = [path.stem for path in list(Path('tomato_bed').glob('*')) if path.stem != '.ipynb_checkpoints']\n",
    "\n",
    "model_names = [name for name in model_names if name!='previous'] # remove 'previous' folder\n",
    "model_names.sort() \n",
    "model_names"
   ]
  },
  {
   "cell_type": "code",
   "execution_count": null,
   "id": "898fa86b",
   "metadata": {},
   "outputs": [
    {
     "name": "stdout",
     "output_type": "stream",
     "text": [
      "Detecting objects...\n"
     ]
    },
    {
     "name": "stderr",
     "output_type": "stream",
     "text": [
      "Results saved to \u001b[1mruns/detect/predict\u001b[0m\n",
      "8 labels saved to runs/detect/predict/labels\n",
      "Results saved to \u001b[1mruns/detect/predict\u001b[0m\n",
      "8 labels saved to runs/detect/predict/labels\n",
      "Results saved to \u001b[1mruns/detect/predict\u001b[0m\n",
      "8 labels saved to runs/detect/predict/labels\n"
     ]
    }
   ],
   "source": [
    "model_name = 'yolov8m_tomato_rotate'\n",
    "weights_dir = f'tomato_bed/{model_name}/weights/best.pt'\n",
    "conf_thres = 0.5\n",
    "    \n",
    "for input_path in input_paths:\n",
    "    num_images = len(list(input_path.glob('*.jpg')))\n",
    "    \n",
    "    #input_path = Path(\"tomatoes test\")\n",
    "\n",
    "    output_parent_dir = Path(\"test_set_preds\")\n",
    "    os.makedirs(output_parent_dir, exist_ok=True) # make folder if it doesnt existEros Hacinas\n",
    "\n",
    "\n",
    "    print(\"Detecting objects...\")\n",
    "    # model prediction\n",
    "    os.makedirs(output_parent_dir, exist_ok=True) # make output folder\n",
    "\n",
    "    start_time = time.time() # start time \n",
    "    \n",
    "    predict_yolo(pred_path=str(input_path),\n",
    "              label_save_path=str(output_parent_dir), \n",
    "              weight_dir=weights_dir, conf=conf_thres)\n",
    "\n",
    "    end_time = time.time() # end time\n",
    "    \n",
    "    execution_time = end_time - start_time\n",
    "    print(\"Detection done.\")\n",
    "    \n",
    "    # reset folders\n",
    "    shutil.rmtree('test_set_preds')\n",
    "    shutil.rmtree('tiled')\n",
    "\n",
    "    os.makedirs('test_set_preds')\n",
    "    os.makedirs('tiled')\n",
    "    \n",
    "    print(f'{execution_time:2f} secs. for {num_images} images')\n",
    "\n",
    "\n"
   ]
  },
  {
   "cell_type": "code",
   "execution_count": null,
   "id": "5e2a5a76",
   "metadata": {},
   "outputs": [],
   "source": [
    "shutil.rmtree('test_set_preds')\n",
    "shutil.rmtree('tiled')"
   ]
  },
  {
   "cell_type": "markdown",
   "id": "ab49280c",
   "metadata": {},
   "source": [
    "GPU\n",
    "num of imgs / time to process\n",
    "* 2 images= 11.34 secs.\n",
    "* 4 images = 16.54 secs\n",
    "* 8 = 28.60 secs\n",
    "* 16 = 61.15 secs\n",
    "* 32 = 123.01 secs"
   ]
  },
  {
   "cell_type": "code",
   "execution_count": null,
   "id": "56de0c38",
   "metadata": {},
   "outputs": [],
   "source": [
    "GPU = [11.34, 16.54, 28.60, 61.15, 123.01]"
   ]
  },
  {
   "cell_type": "markdown",
   "id": "9063f036",
   "metadata": {},
   "source": [
    "CPU\n",
    "num of imgs / time to process\n",
    "* 2 images= 8.00 secs.\n",
    "* 4 images =  16.96 secs\n",
    "* 8 =  50.09 secs\n",
    "* 16 =  57.26 secs\n",
    "* 32 =  120.06 secs"
   ]
  },
  {
   "cell_type": "code",
   "execution_count": null,
   "id": "ad92a552",
   "metadata": {},
   "outputs": [],
   "source": [
    "CPU\n",
    "num of imgs / time to process\n",
    "CPU = [8.00, 16.96, 50.09, 57.26, 120.06]"
   ]
  },
  {
   "cell_type": "code",
   "execution_count": 1,
   "id": "b40b3a08",
   "metadata": {},
   "outputs": [
    {
     "data": {
      "image/png": "[encoded data removed]",
      "text/plain": [
       "<Figure size 432x288 with 1 Axes>"
      ]
     },
     "metadata": {
      "needs_background": "light"
     },
     "output_type": "display_data"
    }
   ],
   "source": [
    "import matplotlib.pyplot as plt\n",
    "import numpy as np\n",
    "\n",
    "# Setting the data\n",
    "NUM_ITEMS = np.array([2, 4, 8, 16, 32])\n",
    "GPU_TIME = np.array([11.34, 16.54, 28.60, 61.15, 123.01])\n",
    "CPU_TIME = np.array([49.65, 104.10, 196.94, 383.76, 733.96])\n",
    "\n",
    "# Setting the plot style\n",
    "plt.style.use('ggplot')\n",
    "\n",
    "# Plotting the data\n",
    "plt.plot(NUM_ITEMS, GPU_TIME, marker='o', linestyle='-', color='b', label='GPU Time')\n",
    "plt.plot(NUM_ITEMS, CPU_TIME, marker='s', linestyle='--', color='r', label='CPU Time')\n",
    "\n",
    "# Setting the title and the labels of the plot\n",
    "plt.title('Detection pipeline execution time')\n",
    "plt.xlabel('Number of plant boxes')\n",
    "plt.ylabel('Time in seconds')\n",
    "\n",
    "# Displaying the legend\n",
    "plt.legend()\n",
    "\n",
    "plt.savefig('stress-test-plot.jpg', dpi=300)\n",
    "\n",
    "# Displaying the plot\n",
    "plt.show()\n"
   ]
  },
  {
   "cell_type": "code",
   "execution_count": 13,
   "id": "a7fc1be9",
   "metadata": {},
   "outputs": [
    {
     "data": {
      "text/plain": [
       "<Figure size 432x288 with 0 Axes>"
      ]
     },
     "metadata": {},
     "output_type": "display_data"
    }
   ],
   "source": [
    "plt.savefig('stress-test-plot.png', dpi=300)"
   ]
  },
  {
   "cell_type": "code",
   "execution_count": null,
   "id": "fa85106e",
   "metadata": {},
   "outputs": [],
   "source": []
  }
 ],
 "metadata": {
  "kernelspec": {
   "display_name": "Python 3 (ipykernel)",
   "language": "python",
   "name": "python3"
  },
  "language_info": {
   "codemirror_mode": {
    "name": "ipython",
    "version": 3
   },
   "file_extension": ".py",
   "mimetype": "text/x-python",
   "name": "python",
   "nbconvert_exporter": "python",
   "pygments_lexer": "ipython3",
   "version": "3.7.3"
  }
 },
 "nbformat": 4,
 "nbformat_minor": 5
}
